{
 "cells": [
  {
   "cell_type": "markdown",
   "id": "a7e061d8-5dc2-4375-bfbf-04de990635bd",
   "metadata": {},
   "source": [
    "# TP 1 : Introduction à Sagemath/Jupyter\n",
    "\n",
    "## 1. Prise en main de Sagemath sous Jypyter\n",
    "\n",
    "Avant toute chose : assurez-vous de bien travailler avec un kernel SageMath (en haut à droite)"
   ]
  },
  {
   "cell_type": "markdown",
   "id": "87157f5b-a97b-4ed4-9da6-d533d68f6fd8",
   "metadata": {},
   "source": [
    "L'environnement Jupyter permet d'alterner des cellules de texte (comme celle-ci) et des cellules de calcul (comme ci-dessous)."
   ]
  },
  {
   "cell_type": "code",
   "execution_count": 1,
   "id": "7aa54ab4-8f86-4d54-a7d3-4ce6cd7282f4",
   "metadata": {
    "scrolled": true
   },
   "outputs": [
    {
     "data": {
      "text/plain": [
       "-19"
      ]
     },
     "execution_count": 1,
     "metadata": {},
     "output_type": "execute_result"
    }
   ],
   "source": [
    "(3*5+2)-(6-3*4)^2"
   ]
  },
  {
   "cell_type": "markdown",
   "id": "3ae2aba6-d5d6-4e6c-a204-e635b2c4b96b",
   "metadata": {},
   "source": [
    "Pour exécuter ou ré-exécuter une cellule de calcul, taper Ctrl+Entrée ou Maj+Entrée.\n",
    "Attention :\n",
    "- la touche Entrée seul passe à la ligne\n",
    "- seul le résultat de la dernière ligne de calcul est affiché (on peut utiliser print pour afficher un résultat intermédiaire).\n",
    "Exemple :"
   ]
  },
  {
   "cell_type": "code",
   "execution_count": 2,
   "id": "b254854f-c8fc-42c2-a427-1c03d191da13",
   "metadata": {},
   "outputs": [
    {
     "name": "stdout",
     "output_type": "stream",
     "text": [
      "4\n"
     ]
    },
    {
     "data": {
      "text/plain": [
       "26"
      ]
     },
     "execution_count": 2,
     "metadata": {},
     "output_type": "execute_result"
    }
   ],
   "source": [
    "x=4\n",
    "print(x)\n",
    "x+1\n",
    "x=x+1\n",
    "x^2+1"
   ]
  },
  {
   "cell_type": "markdown",
   "id": "59238dfc-5fc7-47dc-8132-ccf35ef81275",
   "metadata": {},
   "source": [
    "**Pensez à sauver (très) régulièrement ! Surtout le jour de l'oral...**"
   ]
  },
  {
   "cell_type": "markdown",
   "id": "c9d4cf85-16fd-454a-8a65-66b251da19b8",
   "metadata": {},
   "source": [
    "Attention : on peut remonter et modifier des cellules mais c'est l'ordre de leur exécution qui compte (et pas l'ordre dans le fichier). C'est rappelé par le numéro `[x]` à gauche de la cellule de code. \n",
    "\n",
    "On peut réinitialiser le noyau en cliquant sur `Restart kernel` dans le menu pour tout remettre à zéro."
   ]
  },
  {
   "cell_type": "markdown",
   "id": "e39bb8b7-70bf-4f03-9661-421d3e5a5f11",
   "metadata": {},
   "source": [
    "## 2. Sagemath comme calculatrice"
   ]
  },
  {
   "cell_type": "markdown",
   "id": "c8ea5678-0e90-4eab-9fb7-ff32172bb369",
   "metadata": {},
   "source": [
    "SageMath connaît les fonctions mathématiques de base (`sin, cos, exp, abs, ln, sqrt, gcd, lcm, max, min,` ...) et certaines constantes (`pi, e, i` ou plutôt `I` en majuscule).\n",
    "\n",
    "Pouvez-vous vérifier l'égalité $e^{i\\pi}+1=0$ ?\n"
   ]
  },
  {
   "cell_type": "code",
   "execution_count": null,
   "id": "c2c3a990-e6ca-4847-bd45-c03bcb3aec99",
   "metadata": {},
   "outputs": [],
   "source": []
  },
  {
   "cell_type": "markdown",
   "id": "db891d4c-282d-4e06-ad94-bd3f5653afc6",
   "metadata": {},
   "source": [
    "On peut ainsi se servir de SageMath comme d'une super calculatrice (mais attention à la distinction entiers / flottants).\n",
    "Le calcul symbolique est possible, avec la commande var('x') ou var('x y z') pour introduire des variables formelles. Exemple :"
   ]
  },
  {
   "cell_type": "code",
   "execution_count": 3,
   "id": "710ceb6b-694b-4fa6-9bbf-1c02db80bc3c",
   "metadata": {},
   "outputs": [
    {
     "data": {
      "text/plain": [
       "1/((x - y)^2 + 1)"
      ]
     },
     "execution_count": 3,
     "metadata": {},
     "output_type": "execute_result"
    }
   ],
   "source": [
    "var('x y')\n",
    "cos(arctan(x-y))^2"
   ]
  },
  {
   "cell_type": "markdown",
   "id": "f6d18af3-8b9a-4f98-8e92-7a68036df5ea",
   "metadata": {},
   "source": [
    "Pour obtenir de l'aide : tapez ? ou help avant le nom de la fonction."
   ]
  },
  {
   "cell_type": "markdown",
   "id": "3f45bf18-9f66-4217-8b1f-643c9931d653",
   "metadata": {},
   "source": [
    "Les résultats d'un calcul ne sont pas toujours sous la forme attendue ! Quelques commandes utiles : `expand, simplify, numerator, denominator`.\n",
    "\n",
    "Exemple : exécutez la cellule suivante, et modifiez-la pour faire aparaître les coefficients de la 10ème ligne du triangle de Pascal."
   ]
  },
  {
   "cell_type": "code",
   "execution_count": 4,
   "id": "e916797e-c52b-43c1-9f54-2e9e1e6d88c3",
   "metadata": {},
   "outputs": [
    {
     "data": {
      "text/plain": [
       "(t + 1)^10"
      ]
     },
     "execution_count": 4,
     "metadata": {},
     "output_type": "execute_result"
    }
   ],
   "source": [
    "var('t')\n",
    "(1+t)^10"
   ]
  },
  {
   "cell_type": "markdown",
   "id": "f37ebaee-e774-445f-9ee8-5c0355925a24",
   "metadata": {},
   "source": [
    "*Remarque : la variable `x` est une variable d'exception, il n'est pas utile de la déclarer. Toute autre variable formelle que `x` doit être déclarée au préalable avec la commande `var`. Pour effacer une variable formelle `t` déclarée, on exécute `reset('t')`.*"
   ]
  },
  {
   "cell_type": "markdown",
   "id": "7f838367-2b7e-4aed-a6f6-b34d648273d3",
   "metadata": {},
   "source": [
    "**Exemple** : mettez l'expression suivante sous la forme $a+b\\sqrt{2}$"
   ]
  },
  {
   "cell_type": "code",
   "execution_count": 5,
   "id": "72f382ea-945f-4750-a317-4a963f14acf9",
   "metadata": {},
   "outputs": [
    {
     "data": {
      "text/plain": [
       "-(2*sqrt(2) + 3)^2*(sqrt(2) - 5)"
      ]
     },
     "execution_count": 5,
     "metadata": {},
     "output_type": "execute_result"
    }
   ],
   "source": [
    "(3+2*sqrt(2))^2*(5-sqrt(2))\n"
   ]
  },
  {
   "cell_type": "markdown",
   "id": "ee2300ac-35c4-4d87-baed-03077887a932",
   "metadata": {},
   "source": [
    "Comparez avec le résultat du calcul suivant. Comment expliquez-vous la différence ?"
   ]
  },
  {
   "cell_type": "code",
   "execution_count": 6,
   "id": "bd5e7107-1c11-4cce-9f5e-6f59218e2018",
   "metadata": {},
   "outputs": [
    {
     "data": {
      "text/plain": [
       "121.811183182043"
      ]
     },
     "execution_count": 6,
     "metadata": {},
     "output_type": "execute_result"
    }
   ],
   "source": [
    "(3+2*sqrt(2.))^2*(5-sqrt(2.))"
   ]
  },
  {
   "cell_type": "markdown",
   "id": "31e99f88-2704-44ed-9ed1-784bffb40477",
   "metadata": {},
   "source": [
    "## 3. Sagemath = Python pour les matheux"
   ]
  },
  {
   "cell_type": "markdown",
   "id": "7c242a62-1dbd-4d0b-a37f-30942a178a4a",
   "metadata": {},
   "source": [
    "La syntaxe de base est celle de Python. En particulier :\n",
    "- affectation avec =\n",
    "- test d'égalité avec == et !=\n",
    "\n",
    "\n",
    "Exemple : que fait la fonction suivante ? Testez-la."
   ]
  },
  {
   "cell_type": "code",
   "execution_count": 7,
   "id": "ebe9ab79-0ad2-45c4-b0dd-a0e64e113c50",
   "metadata": {},
   "outputs": [],
   "source": [
    "def f(x):\n",
    "    for i in range(10):\n",
    "        if i!=5:\n",
    "            if x==i:\n",
    "                return True\n",
    "    return False"
   ]
  },
  {
   "cell_type": "markdown",
   "id": "9f8f3f3c-43b6-4b0c-82bc-99852cf8f735",
   "metadata": {},
   "source": [
    "Remarquez l'indentation obligatoire spécifique au langage Python..."
   ]
  },
  {
   "cell_type": "markdown",
   "id": "b022ff38-6337-4a79-96dc-87c7da5e69ce",
   "metadata": {},
   "source": [
    "Tous les objets manipulés en Sagemath (comme en Python) ont un type, que l'on peut retrouver avec `type`. C'est important pour débugger et traiter les messages d'erreur."
   ]
  },
  {
   "cell_type": "code",
   "execution_count": 8,
   "id": "879d7335-84ff-407d-a73a-ce389ae1f777",
   "metadata": {},
   "outputs": [
    {
     "data": {
      "text/plain": [
       "<class 'sage.symbolic.expression.Expression'>"
      ]
     },
     "execution_count": 8,
     "metadata": {},
     "output_type": "execute_result"
    }
   ],
   "source": [
    "type(x)"
   ]
  },
  {
   "cell_type": "code",
   "execution_count": 9,
   "id": "e4e5bc5e-0da2-4d16-8f31-4d8564f7b9c9",
   "metadata": {},
   "outputs": [
    {
     "data": {
      "text/plain": [
       "<class 'function'>"
      ]
     },
     "execution_count": 9,
     "metadata": {},
     "output_type": "execute_result"
    }
   ],
   "source": [
    "type(f)"
   ]
  },
  {
   "cell_type": "markdown",
   "id": "823ac1cf-00af-444b-ba46-0fbb049ee271",
   "metadata": {},
   "source": [
    "Chaque type (ou classe) a des fonctions particulières qui ne s'appliquent qu'aux objets de cette classe. On les appelle des méthodes, la syntaxe à utiliser est la suivante `objet.methode(arguments)`"
   ]
  },
  {
   "cell_type": "code",
   "execution_count": 10,
   "id": "a2d359b7-0e51-47af-b009-e49d8b4458f0",
   "metadata": {},
   "outputs": [
    {
     "name": "stdout",
     "output_type": "stream",
     "text": [
      "<class 'list'>\n",
      "[4, 3, 2, 1]\n"
     ]
    }
   ],
   "source": [
    "L=[1,2,3,4]\n",
    "print(type(L))\n",
    "L.reverse()\n",
    "print(L)"
   ]
  },
  {
   "cell_type": "markdown",
   "id": "a7137854-e0af-4abc-a07d-e129cf91d368",
   "metadata": {},
   "source": [
    "**À retenir :** on peut utiliser la complétion automatique (touche Tab) pour voir l'ensemble des méthodes applicables à un objet donné, dans une cellule qui a déjà été exécutée. \n",
    "\n",
    "Essayez avec `L.` pour avoir toutes les méthodes de la classe `list` "
   ]
  },
  {
   "cell_type": "code",
   "execution_count": null,
   "id": "9ff387a9-cbcd-4034-ad45-89d415e28cd4",
   "metadata": {},
   "outputs": [],
   "source": []
  },
  {
   "cell_type": "markdown",
   "id": "43b56963-a40f-4e95-9c5d-49cb5e27c3b1",
   "metadata": {},
   "source": [
    "**Attention :** il y a quelques fonctions prédéfinies, dites `built-in function`, et qui s'appliquent à des objets de différentes classes. \n",
    "\n",
    "Pour avoir une petite idée de ces fonctions, voir (https://docs.python.org/3/library/functions.html)"
   ]
  },
  {
   "cell_type": "code",
   "execution_count": 11,
   "id": "e91994e7-68c5-40f9-bad5-3efff374539a",
   "metadata": {},
   "outputs": [
    {
     "name": "stdout",
     "output_type": "stream",
     "text": [
      "<built-in function len>\n"
     ]
    },
    {
     "data": {
      "text/plain": [
       "4"
      ]
     },
     "execution_count": 11,
     "metadata": {},
     "output_type": "execute_result"
    }
   ],
   "source": [
    "print(len)\n",
    "len(L)"
   ]
  },
  {
   "cell_type": "markdown",
   "id": "11a0991c-1fb8-4487-af13-973cfc56d708",
   "metadata": {},
   "source": [
    "Pour créer des fonctions simples avec une syntaxe proche de celle des mathématiciens (par exemple $f:x\\mapsto x^2+2$), on peut utiliser la notation `lambda` :"
   ]
  },
  {
   "cell_type": "code",
   "execution_count": 12,
   "id": "b4c80383-a313-4c69-b27a-33a21a7a7ddc",
   "metadata": {},
   "outputs": [
    {
     "data": {
      "text/plain": [
       "27"
      ]
     },
     "execution_count": 12,
     "metadata": {},
     "output_type": "execute_result"
    }
   ],
   "source": [
    "f=lambda x:x^2+2\n",
    "f(5)"
   ]
  },
  {
   "cell_type": "markdown",
   "id": "5280b337-6184-4c4c-8cff-8b477a8dbb01",
   "metadata": {},
   "source": [
    "Pour l'option C et les problématiques de complexité, il est utile de pouvoir mesurer le temps d'exécution d'une commande. Ceci peut se faire en tapant `time cmd`."
   ]
  },
  {
   "cell_type": "markdown",
   "id": "a91bc2e6-9509-4cfc-bfef-0138ca890e8d",
   "metadata": {},
   "source": [
    "## 4. Rappels sur les listes et les itérateurs"
   ]
  },
  {
   "cell_type": "markdown",
   "id": "ce79f22e-5584-42a8-9285-645c37875432",
   "metadata": {},
   "source": [
    "On peut itérer (boucle `for`) sur une liste ou plus généralement tout objet \"itérable\". \n",
    "\n",
    "Exemple :"
   ]
  },
  {
   "cell_type": "code",
   "execution_count": 13,
   "id": "55744e61-881f-455a-abbf-135f7c19f6c3",
   "metadata": {},
   "outputs": [
    {
     "name": "stdout",
     "output_type": "stream",
     "text": [
      "chou\n",
      "5\n",
      "patate\n",
      "[pi, sqrt(5)]\n",
      "3.20000000000000\n"
     ]
    }
   ],
   "source": [
    "L=['chou', 5, 'patate', [pi,sqrt(5)], 3.2]\n",
    "for l in L:\n",
    "    print(l)"
   ]
  },
  {
   "cell_type": "markdown",
   "id": "ea4d2bb7-9ace-47c4-bb91-1bdfe6ce556f",
   "metadata": {},
   "source": [
    "On peut créer des listes par compréhension avec la syntaxe `[expr for e in L if condition]`"
   ]
  },
  {
   "cell_type": "code",
   "execution_count": 14,
   "id": "bd445c62-4d8f-428c-83f0-0077c429306f",
   "metadata": {},
   "outputs": [
    {
     "data": {
      "text/plain": [
       "[0, 1, 4, 9, 16, 36, 49, 64, 81]"
      ]
     },
     "execution_count": 14,
     "metadata": {},
     "output_type": "execute_result"
    }
   ],
   "source": [
    "[x^2 for x in range(10) if x!=5]"
   ]
  },
  {
   "cell_type": "markdown",
   "id": "3eaec1e2-49d9-4a9d-b516-de9f796a5ae4",
   "metadata": {},
   "source": [
    "Un autre exemple pour simuler 10 lancers de dés successifs:"
   ]
  },
  {
   "cell_type": "code",
   "execution_count": 15,
   "id": "e734c6ea-5803-4498-9c89-526dcf03f9f2",
   "metadata": {},
   "outputs": [
    {
     "data": {
      "text/plain": [
       "[3, 5, 3, 3, 1, 1, 5, 5, 3, 3]"
      ]
     },
     "execution_count": 15,
     "metadata": {},
     "output_type": "execute_result"
    }
   ],
   "source": [
    "[randrange(1,7) for _ in range(10)]"
   ]
  },
  {
   "cell_type": "markdown",
   "id": "af07fefc-52eb-47a6-9f8e-d40aaabe009c",
   "metadata": {},
   "source": [
    "**Exercice :** implémenter avec la syntaxe `lambda` le symbole de Kronecker et utiliser les listes par compréhension emboîtées pour créer la matrice identité 10x10 (vue commme liste de listes)"
   ]
  },
  {
   "cell_type": "code",
   "execution_count": null,
   "id": "393b65d5-2486-4794-a00f-6422f01a480c",
   "metadata": {},
   "outputs": [],
   "source": []
  },
  {
   "cell_type": "markdown",
   "id": "ed474fe6-ec99-4144-bdad-8d7b8c17f150",
   "metadata": {},
   "source": [
    "Pour extraire une liste d'une liste, on peut utiliser le slicing `L[a:b]`. **Exemples :**"
   ]
  },
  {
   "cell_type": "code",
   "execution_count": 16,
   "id": "a8a36638-fc71-46f7-98e9-6a9177dbcbe4",
   "metadata": {},
   "outputs": [
    {
     "name": "stdout",
     "output_type": "stream",
     "text": [
      "[3, 4, 5, 6]\n",
      "[4, 5, 6, 7, 8, 9]\n",
      "[0, 1, 2, 3, 4, 5]\n"
     ]
    }
   ],
   "source": [
    "L=[i for i in range(10)]\n",
    "print(L[3:7])\n",
    "print(L[4:])\n",
    "print(L[:6])"
   ]
  },
  {
   "cell_type": "code",
   "execution_count": 17,
   "id": "973e29fa-5063-43c9-82ee-ed672934410d",
   "metadata": {},
   "outputs": [
    {
     "name": "stdout",
     "output_type": "stream",
     "text": [
      "5\n",
      "[0, 1, 2, 3, 4, 5, 6, 7, 8, 9]\n",
      "[2, 3, 4, 40, 6, 7, 8, 9]\n"
     ]
    }
   ],
   "source": [
    "M=L[2:]\n",
    "print(M[3])\n",
    "M[3]=40\n",
    "print(L)\n",
    "print(M)"
   ]
  },
  {
   "cell_type": "code",
   "execution_count": 18,
   "id": "77644249-1b66-4bc4-9690-67ca9faedc9c",
   "metadata": {},
   "outputs": [
    {
     "name": "stdout",
     "output_type": "stream",
     "text": [
      "[0, 1, 2, 50, 4, 5, 6, 7, 8, 9]\n"
     ]
    }
   ],
   "source": [
    "N=L\n",
    "N[3]=50\n",
    "print(L)"
   ]
  },
  {
   "cell_type": "markdown",
   "id": "27cfaba1-d354-4209-b961-77a7fdb7870a",
   "metadata": {},
   "source": [
    "La syntaxe Python autorise les indices négatifs. C'est pratique mais ça peut poser des difficultés de débuggage en masquant des erreurs d'indices."
   ]
  },
  {
   "cell_type": "code",
   "execution_count": 19,
   "id": "740dc9f5-773c-464d-8c51-9c63cffe65e1",
   "metadata": {},
   "outputs": [
    {
     "name": "stdout",
     "output_type": "stream",
     "text": [
      "9 5\n"
     ]
    },
    {
     "ename": "IndexError",
     "evalue": "list index out of range",
     "output_type": "error",
     "traceback": [
      "\u001b[0;31m---------------------------------------------------------------------------\u001b[0m",
      "\u001b[0;31mIndexError\u001b[0m                                Traceback (most recent call last)",
      "Cell \u001b[0;32mIn [19], line 2\u001b[0m\n\u001b[1;32m      1\u001b[0m \u001b[38;5;28mprint\u001b[39m(L[\u001b[38;5;241m-\u001b[39mInteger(\u001b[38;5;241m1\u001b[39m)],L[\u001b[38;5;241m-\u001b[39mInteger(\u001b[38;5;241m5\u001b[39m)])\n\u001b[0;32m----> 2\u001b[0m \u001b[38;5;28mprint\u001b[39m(\u001b[43mL\u001b[49m\u001b[43m[\u001b[49m\u001b[38;5;241;43m-\u001b[39;49m\u001b[43mInteger\u001b[49m\u001b[43m(\u001b[49m\u001b[38;5;241;43m11\u001b[39;49m\u001b[43m)\u001b[49m\u001b[43m]\u001b[49m)\n",
      "\u001b[0;31mIndexError\u001b[0m: list index out of range"
     ]
    }
   ],
   "source": [
    "print(L[-1],L[-5])\n",
    "print(L[-11])"
   ]
  },
  {
   "cell_type": "markdown",
   "id": "7f908217-2167-4c42-8420-2d74daf22991",
   "metadata": {},
   "source": [
    "**Exercice :** que fait la fonction suivante ?"
   ]
  },
  {
   "cell_type": "code",
   "execution_count": null,
   "id": "ff2b3fb1-aca5-4d8c-8ba3-044fbc690116",
   "metadata": {},
   "outputs": [],
   "source": [
    "def Q(L):\n",
    "    if L==[]: return []\n",
    "    return Q([x for x in L[1:] if x<L[0]]) + L[0:1] + Q([x for x in L[1:] if x>L[0]])"
   ]
  },
  {
   "cell_type": "code",
   "execution_count": null,
   "id": "a6490925-2aca-4572-b1eb-ca7e5d7158f4",
   "metadata": {},
   "outputs": [],
   "source": []
  },
  {
   "cell_type": "markdown",
   "id": "d8984eec-58fa-4ae6-89d9-a15ac6ff619a",
   "metadata": {},
   "source": [
    "## 5. Graphes"
   ]
  },
  {
   "cell_type": "markdown",
   "id": "de352c53-58cd-4453-9819-29661d5abffb",
   "metadata": {},
   "source": [
    "Les graphes en Sagemath sont basés sur la bibliothèque `Matplotlib` de Python. \n",
    "\n",
    "On peut tracer le graphe d'une fonction assez simplement."
   ]
  },
  {
   "cell_type": "code",
   "execution_count": null,
   "id": "4131a270-2406-42e5-b6bd-f21721165847",
   "metadata": {},
   "outputs": [],
   "source": [
    "plot(sin(x)/x,xmin=-10,xmax=10,ymin=-0.5,ymax=1.2)"
   ]
  },
  {
   "cell_type": "markdown",
   "id": "3943f392-5664-4338-a7f7-6c7b9cb0d85e",
   "metadata": {},
   "source": [
    "`x` est toujours connu comme variable formelle. On peut en utiliser d'autres, ou passer directement une fonction (éventuellement avec la syntaxe lambda) en argument."
   ]
  },
  {
   "cell_type": "code",
   "execution_count": null,
   "id": "dd97079a-1d80-4df0-97e6-6c92585748fa",
   "metadata": {},
   "outputs": [],
   "source": [
    "var('t')\n",
    "plot(floor(t),(t,-5,5))"
   ]
  },
  {
   "cell_type": "code",
   "execution_count": null,
   "id": "c76ee4fe-aab9-4203-9159-8afb7e628028",
   "metadata": {},
   "outputs": [],
   "source": [
    "plot(lambda z:z^2-2*z+1,-3,3)"
   ]
  },
  {
   "cell_type": "markdown",
   "id": "f372872f-3ae9-440c-a970-7b41328bad0c",
   "metadata": {},
   "source": [
    "On peut aussi passer une liste de fonctions : "
   ]
  },
  {
   "cell_type": "code",
   "execution_count": null,
   "id": "bf1aed78-815c-4279-988c-1eca4759263e",
   "metadata": {},
   "outputs": [],
   "source": [
    "plot([sin,cos,tan],-6,6,ymin=-2,ymax=2,detect_poles=True)"
   ]
  },
  {
   "cell_type": "markdown",
   "id": "e3c2d017-0dff-45ed-87ad-3060c5d8fbb7",
   "metadata": {},
   "source": [
    "Pour des données plus générales, on peut afficher un ensemble de points en passant en paramètre la liste des coordonnées de ces points. Plus d'informations en tapant `?list_plot`."
   ]
  },
  {
   "cell_type": "code",
   "execution_count": null,
   "id": "225aeff9-de24-47bd-881c-f27c873f86b7",
   "metadata": {},
   "outputs": [],
   "source": [
    "points=[(i,i+2*random()) for i in range(50)]\n",
    "list_plot(points)"
   ]
  },
  {
   "cell_type": "markdown",
   "id": "6c0fd728-29bd-48c9-ad17-47a09cf5625f",
   "metadata": {},
   "source": [
    "Pour superposer des graphes quelconques, le plus simple est d'affecter chaque graphe à une variable, puis de concaténer ces objets graphes pour les tracer. Penser à harmoniser les domaines de définition et à mettre des couleurs pour les distinguer."
   ]
  },
  {
   "cell_type": "code",
   "execution_count": null,
   "id": "45975e94-c8c4-483d-8600-f4c3d5c79983",
   "metadata": {},
   "outputs": [],
   "source": [
    "P=list_plot(points,color='blue')\n",
    "Q=plot(x+1,0,50,color='red')\n",
    "P+Q"
   ]
  },
  {
   "cell_type": "markdown",
   "id": "01d4cab9-e541-4e6b-a20b-be17e9b8d088",
   "metadata": {},
   "source": [
    "Un aperçu des possibilités :"
   ]
  },
  {
   "cell_type": "code",
   "execution_count": null,
   "id": "2d981789-ee6f-4983-a03c-783db4f9f335",
   "metadata": {},
   "outputs": [],
   "source": [
    "parametric_plot((cos(x),sin(x)),(x,0,2*pi))"
   ]
  },
  {
   "cell_type": "code",
   "execution_count": null,
   "id": "f68805a1-4e58-4935-9631-91d586c13c1e",
   "metadata": {},
   "outputs": [],
   "source": [
    "implicit_plot(y^2-x^3+2*x,(x,-3,3),(y,-3,3))"
   ]
  },
  {
   "cell_type": "code",
   "execution_count": null,
   "id": "a0f41024-0f17-491c-a101-3200eaba4b71",
   "metadata": {},
   "outputs": [],
   "source": [
    "plot3d(sqrt(x^2+y^2),(-4,4),(-4,4))"
   ]
  },
  {
   "cell_type": "markdown",
   "id": "f05f3ef6-6ba3-4d4c-93d9-302c1aecda5d",
   "metadata": {},
   "source": [
    "**Exercice :** écrire un programme qui prend en argument une fonction, une valeur de départ `u0`, un nombre d'itérations `n` et représente les n premiers termes de la suite $(u_n)$ définie par $u_{n+1} = f(u_n)$ comme dans l'image suivante\n",
    "\n",
    "![Image](suiteIteree.png)"
   ]
  },
  {
   "cell_type": "code",
   "execution_count": null,
   "id": "ca0ef209-ff67-48cd-8647-fb301f5c37dc",
   "metadata": {},
   "outputs": [],
   "source": []
  },
  {
   "cell_type": "markdown",
   "id": "171fa2c1-aee6-4f6f-9e97-f366c8fc3baf",
   "metadata": {},
   "source": [
    "## 6. Des exercices"
   ]
  },
  {
   "cell_type": "markdown",
   "id": "9890ab96-4890-4267-b352-9250740d7b19",
   "metadata": {},
   "source": [
    "Voici des suggestions d'exercices (au choix) pour s'entraîner à manipuler SageMath jusqu'à la fin de la séance. N'hésitez pas à utiliser l'aide en ligne.  "
   ]
  },
  {
   "cell_type": "markdown",
   "id": "497369c0-878b-42e3-b719-83f247a3ebaa",
   "metadata": {},
   "source": [
    "**Exercice :** Définissez la suite de Fibonacci par récurrence, puis fabriquez une définition alternative\n",
    "passant par l'exponentiation dans le corps de nombres $\\mathbb{Q}(\\sqrt{5})$."
   ]
  },
  {
   "cell_type": "markdown",
   "id": "cc6b76df-8cd5-43ec-8f39-798ed607fbe7",
   "metadata": {},
   "source": [
    "**Exercice :** Avec des fonctions intégrées dans SageMath, pour un entier $n$ de taille (très) raisonnable, estimer la probabilité que deux éléments quelconques de $S_n$ engendrent ce groupe."
   ]
  },
  {
   "cell_type": "markdown",
   "id": "1976f0b4-d945-4176-817b-d69a153129d7",
   "metadata": {},
   "source": [
    "**Exercice :** \n",
    "1. Écrire une fonction qui liste les parties (ordonnées) à 2 éléments de l'ensemble des entiers compris entre 1 et n.\n",
    "2. Écrire une fonction qui liste les parties (ordonnées) à k éléments de l'ensemble des entiers compris entre 1 et n."
   ]
  },
  {
   "cell_type": "markdown",
   "id": "516d1f10-b034-4bda-bf5b-eaaca03faf09",
   "metadata": {},
   "source": [
    "**Exercice :** Faites un algorithme pour fabriquer facilement au hasard (mais pas uniformément...) des matrices 2x2 à coefficients entiers, de déterminant donné. "
   ]
  },
  {
   "cell_type": "code",
   "execution_count": null,
   "id": "0f5fa089-adc7-443f-bd63-57f67c010438",
   "metadata": {},
   "outputs": [],
   "source": []
  }
 ],
 "metadata": {
  "kernelspec": {
   "display_name": "SageMath 10.1",
   "language": "sage",
   "name": "sagemath-10.1"
  },
  "language_info": {
   "codemirror_mode": {
    "name": "ipython",
    "version": 3
   },
   "file_extension": ".py",
   "mimetype": "text/x-python",
   "name": "python",
   "nbconvert_exporter": "python",
   "pygments_lexer": "ipython3",
   "version": "3.11.1"
  }
 },
 "nbformat": 4,
 "nbformat_minor": 5
}
