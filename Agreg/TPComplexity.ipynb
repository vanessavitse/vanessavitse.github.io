{
 "cells": [
  {
   "cell_type": "markdown",
   "id": "0d79087b",
   "metadata": {
    "deletable": true,
    "editable": true
   },
   "source": [
    "# I. Anneaux usuels"
   ]
  },
  {
   "cell_type": "markdown",
   "id": "fcf7d230",
   "metadata": {
    "deletable": true,
    "editable": true
   },
   "source": [
    "## 1. Entiers et entiers modulaires"
   ]
  },
  {
   "cell_type": "markdown",
   "id": "963888a9",
   "metadata": {
    "deletable": true,
    "editable": true
   },
   "source": [
    "SageMath possède plusieurs types d'entiers. Le plus courant est le type `Integer`, qui est celui d'un entier entré directement au clavier. L'anneau $\\mathbb Z$ correspondant s'obtient avec la commande `ZZ`."
   ]
  },
  {
   "cell_type": "code",
   "execution_count": null,
   "id": "4fb7f9a9",
   "metadata": {
    "deletable": true,
    "editable": true
   },
   "outputs": [],
   "source": [
    "x=3^7654\n",
    "print(type(x),type(0),type(-1))\n",
    "ZZ"
   ]
  },
  {
   "cell_type": "markdown",
   "id": "a56be15a",
   "metadata": {
    "deletable": true,
    "editable": true
   },
   "source": [
    "Attention que certaines commandes nécessitent ou renvoient des entiers d'un autre type, le type `int` natif de Python. On peut avoir besoin de conversions entre ces deux types. "
   ]
  },
  {
   "cell_type": "code",
   "execution_count": null,
   "id": "f3933706",
   "metadata": {
    "deletable": true,
    "editable": true
   },
   "outputs": [],
   "source": [
    "x=ZZ.random_element(1000)\n",
    "y=randrange(1000)\n",
    "print(x.bits())\n",
    "print(y.bits())"
   ]
  },
  {
   "cell_type": "markdown",
   "id": "6cf52b45",
   "metadata": {
    "deletable": true,
    "editable": true
   },
   "source": [
    "On peut récupérer assez facilement une écriture en base $B$ et inversement :"
   ]
  },
  {
   "cell_type": "code",
   "execution_count": null,
   "id": "4b62421a",
   "metadata": {
    "deletable": true,
    "editable": true
   },
   "outputs": [],
   "source": [
    "x=3465457\n",
    "L=x.digits(10)\n",
    "print(L)\n",
    "ZZ(L,10)"
   ]
  },
  {
   "cell_type": "markdown",
   "id": "701ba0d8",
   "metadata": {
    "deletable": true,
    "editable": true
   },
   "source": [
    "Notons que les corps $\\mathbb Q$ et $\\mathbb R$ s'obtiennent avec les commandes `QQ` et `RR`."
   ]
  },
  {
   "cell_type": "code",
   "execution_count": null,
   "id": "fc83af73",
   "metadata": {
    "deletable": true,
    "editable": true
   },
   "outputs": [],
   "source": [
    "ZZ.fraction_field() == QQ"
   ]
  },
  {
   "cell_type": "markdown",
   "id": "a692fc57",
   "metadata": {
    "deletable": true,
    "editable": true
   },
   "source": [
    "Pour créer l'anneau $\\mathbb Z/n \\mathbb Z$, la commande la plus simple est `Zmod(n)`."
   ]
  },
  {
   "cell_type": "code",
   "execution_count": null,
   "id": "e34e59c2",
   "metadata": {
    "deletable": true,
    "editable": true
   },
   "outputs": [],
   "source": [
    "A=Zmod(101)\n",
    "x=A.random_element()\n",
    "print(type(x))\n",
    "print(parent(x))"
   ]
  },
  {
   "cell_type": "markdown",
   "id": "d7710279",
   "metadata": {
    "deletable": true,
    "editable": true
   },
   "source": [
    "En utilisant la complétion automatique, déterminer :\n",
    "- l'ordre de 78 dans le groupe $(\\mathbb Z/101 \\mathbb Z)^*$\n",
    "- un générateur de ce groupe multiplicatif"
   ]
  },
  {
   "cell_type": "code",
   "execution_count": null,
   "id": "1838c9ce",
   "metadata": {
    "deletable": true,
    "editable": true
   },
   "outputs": [],
   "source": [
    "A(78).multiplicative_order()"
   ]
  },
  {
   "cell_type": "markdown",
   "id": "aa7e9247",
   "metadata": {
    "deletable": true,
    "editable": true
   },
   "source": [
    "Par défaut, les éléments de $\\mathbb Z/n \\mathbb Z$ sont représentés entre $0$ et $n-1$. On peut expliciter un relevé avec `lift` ou `lift_centered`.\n",
    "Attention que SageMath est un peu trop souple sur les conversions automatiques..."
   ]
  },
  {
   "cell_type": "code",
   "execution_count": null,
   "id": "11bb14c6",
   "metadata": {
    "deletable": true,
    "editable": true
   },
   "outputs": [],
   "source": [
    "A=Zmod(101)\n",
    "B=Zmod(70)\n",
    "x=A(76)\n",
    "print(B(x))\n",
    "print(B(x.lift_centered()))"
   ]
  },
  {
   "cell_type": "markdown",
   "id": "168a63ec",
   "metadata": {
    "deletable": true,
    "editable": true
   },
   "source": [
    "En pratique il faut souvent choisir si on travaille avec des entiers ou avec des classes d'équivalence modulo $n$ \n",
    "\n",
    "**Exercice :** écrire deux programmes d'exponentiation rapide qui prennent en argument trois entiers $a$, $b$ et $n$ et renvoient le reste de la division euclidienne de $a^b$ par $n$. Le premier programme ne doit manipuler que des entiers, tandis que le deuxième doit utiliser $\\mathbb Z/n\\mathbb Z$.  "
   ]
  },
  {
   "cell_type": "code",
   "execution_count": null,
   "id": "4a4ed02d",
   "metadata": {
    "deletable": true,
    "editable": true
   },
   "outputs": [],
   "source": []
  },
  {
   "cell_type": "markdown",
   "id": "daeb8e51",
   "metadata": {
    "deletable": true,
    "editable": true
   },
   "source": [
    "## 2. Anneaux de polynômes"
   ]
  },
  {
   "cell_type": "markdown",
   "id": "1a8e87ba",
   "metadata": {
    "deletable": true,
    "editable": true
   },
   "source": [
    "La syntaxe pour créer un anneau de polynômes `A` en une ou plusieurs variables sur un anneau `R` est `A.<x,y,z> = R[]` ou `A.<x,y,z> = PolynomialRing(R)` (cette seconde version permet des options éventuelles). Notons que `R` peut être lui-même un anneau de polynômes."
   ]
  },
  {
   "cell_type": "code",
   "execution_count": null,
   "id": "3aecbd36",
   "metadata": {
    "deletable": true,
    "editable": true
   },
   "outputs": [],
   "source": [
    "A.<x,y> = PolynomialRing(ZZ)\n",
    "P=x^2*y^2 + x*y^2 + x*y + y + 1\n",
    "print(A)\n",
    "print(P)\n",
    "\n",
    "B.<x> =  PolynomialRing(ZZ)\n",
    "A2.<y> = PolynomialRing(B)\n",
    "Q=x^2*y^2 + x*y^2 + x*y + y + 1\n",
    "print(A2)\n",
    "print(Q)\n"
   ]
  },
  {
   "cell_type": "markdown",
   "id": "39235747",
   "metadata": {
    "deletable": true,
    "editable": true
   },
   "source": [
    "Attention à ne pas écraser les inconnues ! Il faut si nécessaire ré-exécuter une cellule précédente. On peut cependant récupérer les indéterminées avec la commande `A.gens()`"
   ]
  },
  {
   "cell_type": "code",
   "execution_count": null,
   "id": "e46c43fc",
   "metadata": {
    "deletable": true,
    "editable": true
   },
   "outputs": [],
   "source": [
    "print(parent(y^2+x^3+x+1))\n",
    "y=3\n",
    "print(y^2+x^3+x+1)\n",
    "print(A.gens()[1])"
   ]
  },
  {
   "cell_type": "markdown",
   "id": "aa9632e0",
   "metadata": {
    "deletable": true,
    "editable": true
   },
   "source": [
    "Pour le calcul symbolique on peut souvent se contenter de déclarer des variables, au lieu d'un anneau de polynômes. Mais on n'a pas alors accès aux mêmes méthodes."
   ]
  },
  {
   "cell_type": "code",
   "execution_count": null,
   "id": "fe6746ee",
   "metadata": {
    "deletable": true,
    "editable": true
   },
   "outputs": [],
   "source": [
    "A.<z>=PolynomialRing(QQ)\n",
    "print((z^3+z-1)*(z^5-2*z+2))\n",
    "print((z^2-1).xgcd(z^2-2*z+1))\n",
    "\n",
    "var('z')\n",
    "print((z^3+z-1)*(z^5-2*z+2))\n",
    "print((z^2-1).xgcd(z^2-2*z+1))"
   ]
  },
  {
   "cell_type": "markdown",
   "id": "ee316a24",
   "metadata": {
    "deletable": true,
    "editable": true
   },
   "source": [
    "Beaucoup de commandes ont des noms assez transparents : `P.coefficients()`, `P.degree()`, `P.derivative()`, etc.\n",
    "\n",
    "**Exercices :** \n",
    "- récupérer le quotient et le reste de la division euclidienne de deux polynômes univariés\n",
    "- tester si le polynôme nul a un coefficient dominant\n",
    "- évaluer un polynôme\n",
    "- récupérer le coefficient en $x^2$ d'un polynôme de $\\mathbb Q[x]$."
   ]
  },
  {
   "cell_type": "code",
   "execution_count": null,
   "id": "bfdf50a9",
   "metadata": {
    "deletable": true,
    "editable": true
   },
   "outputs": [],
   "source": []
  },
  {
   "cell_type": "markdown",
   "id": "c626125c",
   "metadata": {
    "deletable": true,
    "editable": true
   },
   "source": [
    "La commande `P.base_extend(B)` permet d'agrandir facilement l'anneau des coefficients de $P$, accessible par la commande `P.base_ring()`.\n",
    "\n",
    "Exemple : le code ci-dessous ne donne pas vraiment le résultat attendu. Comment modifier la dernière instruction pour obtenir un résultat qui nous convient ?"
   ]
  },
  {
   "cell_type": "code",
   "execution_count": null,
   "id": "a5d2c020",
   "metadata": {
    "deletable": true,
    "editable": true
   },
   "outputs": [],
   "source": [
    "A.<x> = PolynomialRing(ZZ)\n",
    "P=x^5+x^3+2 \n",
    "Q=2*x^2-1\n",
    "\n",
    "P // Q"
   ]
  },
  {
   "cell_type": "markdown",
   "id": "dfc2cfc3",
   "metadata": {
    "deletable": true,
    "editable": true
   },
   "source": [
    "# II. Multiplication rapide de polynômes"
   ]
  },
  {
   "cell_type": "markdown",
   "id": "5a54a228",
   "metadata": {
    "deletable": true,
    "editable": true
   },
   "source": [
    "## 1. Multiplication standard\n",
    "\n",
    "**Exercice :** Implémenter l'algorithme standard de multiplication de deux polynômes $P$ et $Q$. On n'autorise que la somme ou la différence de deux polynômes et la multiplication par $X^n$ (décalage), ainsi bien sûr que l'accès aux coefficients et au degré.\n",
    "\n",
    "Tester cet algorithme et s'assurer de la correction du résultat."
   ]
  },
  {
   "cell_type": "code",
   "execution_count": null,
   "id": "7093f3de",
   "metadata": {
    "deletable": true,
    "editable": true
   },
   "outputs": [],
   "source": []
  },
  {
   "cell_type": "markdown",
   "id": "aa8197c3",
   "metadata": {
    "deletable": true,
    "editable": true
   },
   "source": [
    "## 2. Karatsuba\n",
    "\n",
    "L'algorithme de Karatsuba accélère le produit en utilisant une technique type \"diviser pour régner\". L'idée est la suivante :\n",
    "* Si $P$ et/ou $Q$ sont de degré inférieur à un certain seuil, on effectue le produit standard.\n",
    "* Sinon, on pose $m=\\lfloor n/2\\rfloor$ avec $n=\\max(\\deg(P),\\deg(Q))$. On écrit la division euclidienne\n",
    "  $$P = X^m P_1 + P_0 \\quad \\mathrm{et} \\quad Q = X^m Q_1+Q_0.$$\n",
    "  On a alors\n",
    "  \\begin{align*} PQ &= X^{2m} P_1Q_1 + X^{m}(P_1Q_0+P_0Q_1) + P_0Q_0 \\\\\n",
    "  &= X^{2m} P_1Q_1 + X^{m}\\left((P_1+P_0)(Q_1+Q_0) - P_1Q_1-P_0Q_0\\right) + P_0Q_0 \\end{align*}\n",
    "  de telle sorte que l'on n'a à calculer que trois produits de polynômes de taille moitié : $P_0Q_0$, $P_1Q_1$, et $(P_1+P_0)(Q_1+Q_0)$.\n",
    "  Chacun de ces trois sous-produits se calcule par un appel récursif à l'algorithme de Karatsuba."
   ]
  },
  {
   "cell_type": "markdown",
   "id": "ec529059",
   "metadata": {
    "deletable": true,
    "editable": true
   },
   "source": [
    "**Exercice :** Écrire une fonction `karatsuba(P,Q,seuil)` qui multiplie deux polynômes par l'algorithme de Karatsuba. Comme précédemment, on s'autorise à utiliser la somme ou la différence de deux polynômes et la multiplication par une puissance de $X$. \n",
    "\n",
    "Pour la division euclidienne d'un polynôme $P$ par $X^m$, ce qui revient juste à tronquer la liste de ses coefficients, on pourra utiliser la conversion en polynôme de `list(P)[:m]` et `list(P)[m:]`.\n",
    "\n",
    "Tester cet algorithme et s'assurer de la correction du résultat."
   ]
  },
  {
   "cell_type": "code",
   "execution_count": null,
   "id": "ea320581",
   "metadata": {
    "deletable": true,
    "editable": true
   },
   "outputs": [],
   "source": []
  },
  {
   "cell_type": "markdown",
   "id": "10cdf4e9",
   "metadata": {
    "deletable": true,
    "editable": true
   },
   "source": [
    "En prenant un seuil de $8$, comparer les temps d'exécution de l'algorithme standard et de celui de Karatsuba pour des polynômes de degré $d$ entre $1$ et $200$. On prendra un corps fini (par exemple $\\mathbb{F}_{65537}$) comme anneau de base.\n",
    "\n",
    "Présenter le résultat sous forme de graphe. "
   ]
  },
  {
   "cell_type": "code",
   "execution_count": null,
   "id": "89b5f49a",
   "metadata": {
    "deletable": true,
    "editable": true
   },
   "outputs": [],
   "source": []
  },
  {
   "cell_type": "markdown",
   "id": "10166e3b",
   "metadata": {},
   "source": [
    "## 3. Transformée de Fourier rapide\n",
    "\n",
    "Pour aller asymptotiquement plus vite que Karatsuba, on utilise la transformée de Fourier discrète. On rappelle que dans l'algorithme de Cooley-Tukey, pour calculer la transformée de $u=(u_0,u_1,\\dots,u_{n-1})$ avec $n$ une puissance de $2$ :\n",
    "- on sépare $u$ en parties paire $v = (u_0,u_2,\\dots,u_{n-2})$ et impaire $w=(u_1,u_3,\\dots,u_{n-1})$\n",
    "- on calcule récursivement leurs transformées $\\hat v$ et $\\hat w$\n",
    "- on combine avec la formule $\\hat u_\\ell = \\hat v_\\ell + \\omega^\\ell \\hat w_\\ell$ pour tout $0\\leq \\ell \\leq n-1$, où $\\omega = e^{-\\frac{2i\\pi}{n}}$ et les indices sont pris modulo $n/2$ pour $\\hat v$ et $\\hat w$.\n"
   ]
  },
  {
   "cell_type": "markdown",
   "id": "337e1e13",
   "metadata": {},
   "source": [
    "Programmer l'algorithme de Cooley-Tukey. Écrire aussi un programme calculant la transformée de Fourier discrète inverse. Les tester. "
   ]
  },
  {
   "cell_type": "code",
   "execution_count": null,
   "id": "d11bbc2c",
   "metadata": {},
   "outputs": [],
   "source": []
  },
  {
   "cell_type": "markdown",
   "id": "23bacd8b",
   "metadata": {},
   "source": [
    "Utiliser les programmes ci-dessus pour implémenter un algorithme de multiplication rapide dans $\\mathbb C[X]$, que l'on testera."
   ]
  },
  {
   "cell_type": "code",
   "execution_count": null,
   "id": "e1b28a42",
   "metadata": {
    "collapsed": false,
    "jupyter": {
     "outputs_hidden": false
    }
   },
   "outputs": [],
   "source": []
  },
  {
   "cell_type": "markdown",
   "id": "2193c233",
   "metadata": {},
   "source": [
    "Comparer les temps d'exécution de l'algorithme standard et de celui de Karatsuba pour des polynômes aléatoires de $\\mathbb C[X]$ de degré $d$ entre $500$ et $2000$ (la méthode `random_element(d)` fonctionne). "
   ]
  },
  {
   "cell_type": "code",
   "execution_count": null,
   "id": "4819987b",
   "metadata": {},
   "outputs": [],
   "source": []
  }
 ],
 "metadata": {
  "kernelspec": {
   "display_name": "SageMath 10.1",
   "language": "sage",
   "name": "sagemath-10.1"
  },
  "language_info": {
   "codemirror_mode": {
    "name": "ipython",
    "version": 3
   },
   "file_extension": ".py",
   "mimetype": "text/x-python",
   "name": "python",
   "nbconvert_exporter": "python",
   "pygments_lexer": "ipython3",
   "version": "3.11.1"
  }
 },
 "nbformat": 4,
 "nbformat_minor": 5
}
