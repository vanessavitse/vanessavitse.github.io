{
 "cells": [
  {
   "cell_type": "markdown",
   "id": "4a7df72d-7bea-47e0-a480-c10cfc64e316",
   "metadata": {},
   "source": [
    "# I. Anneaux usuels"
   ]
  },
  {
   "cell_type": "markdown",
   "id": "37e71c9d-51bd-4b5a-b8bb-0d92ccbf51f6",
   "metadata": {},
   "source": [
    "## 1. Entiers et entiers modulaires"
   ]
  },
  {
   "cell_type": "markdown",
   "id": "476b426a-a39c-415e-bab7-b699f7a43c86",
   "metadata": {},
   "source": [
    "SageMath possède plusieurs types d'entiers. Le plus courant est le type `Integer`, qui est celui d'un entier entré directement au clavier. L'anneau $\\mathbb Z$ correspondant s'obtient avec la commande `ZZ`."
   ]
  },
  {
   "cell_type": "code",
   "execution_count": null,
   "id": "9a0dcee1-07b1-446f-92fc-d0f72bcd4dde",
   "metadata": {},
   "outputs": [],
   "source": [
    "x=3^7654\n",
    "print(type(x),type(0),type(-1))\n",
    "ZZ"
   ]
  },
  {
   "cell_type": "markdown",
   "id": "bc8e508c-e92a-4920-8d51-fb2a0e87f298",
   "metadata": {},
   "source": [
    "Attention que certaines commandes nécessitent ou renvoient des entiers d'un autre type, le type `int` natif de Python. On peut avoir besoin de conversions entre ces deux types. "
   ]
  },
  {
   "cell_type": "code",
   "execution_count": null,
   "id": "334a076a-1552-4d06-8715-04a4f27a8fe9",
   "metadata": {},
   "outputs": [],
   "source": [
    "x=ZZ.random_element(1000)\n",
    "y=randrange(1000)\n",
    "print(x.bits())\n",
    "print(y.bits())"
   ]
  },
  {
   "cell_type": "markdown",
   "id": "71ccaec5-cb5c-485a-a2b7-f8ee626ebe74",
   "metadata": {},
   "source": [
    "On peut récupérer assez facilement une écriture en base $B$ et inversement :"
   ]
  },
  {
   "cell_type": "code",
   "execution_count": null,
   "id": "175225a1-8127-4fe6-924d-860d42c82360",
   "metadata": {},
   "outputs": [],
   "source": [
    "x=3465457\n",
    "L=x.digits(10)\n",
    "print(L)\n",
    "ZZ(L,10)"
   ]
  },
  {
   "cell_type": "markdown",
   "id": "3b08dac0-7a8f-4f86-9178-32695cca9be3",
   "metadata": {},
   "source": [
    "Notons que les corps $\\mathbb Q$ et $\\mathbb R$ s'obtiennent avec les commandes `QQ` et `RR`."
   ]
  },
  {
   "cell_type": "code",
   "execution_count": null,
   "id": "38a1e149-1aaa-408b-bead-3b045fa3eaad",
   "metadata": {},
   "outputs": [],
   "source": [
    "ZZ.fraction_field() == QQ"
   ]
  },
  {
   "cell_type": "markdown",
   "id": "ce6093fc-7ace-4557-9eb3-97ae6f26dc3e",
   "metadata": {},
   "source": [
    "Pour créer l'anneau $\\mathbb Z/n \\mathbb Z$, la commande la plus simple est `Zmod(n)`."
   ]
  },
  {
   "cell_type": "code",
   "execution_count": null,
   "id": "b5b03ca7-b485-416c-ba35-aed45081700f",
   "metadata": {},
   "outputs": [],
   "source": [
    "A=Zmod(101)\n",
    "x=A.random_element()\n",
    "print(type(x))\n",
    "print(parent(x))"
   ]
  },
  {
   "cell_type": "markdown",
   "id": "d4eb8a4d-7a45-4ef2-9a2a-d86ea11b0d6d",
   "metadata": {},
   "source": [
    "En utilisant la complétion automatique, déterminer :\n",
    "- l'ordre de 78 dans le groupe $(\\mathbb Z/101 \\mathbb Z)^*$\n",
    "- un générateur de ce groupe multiplicatif"
   ]
  },
  {
   "cell_type": "code",
   "execution_count": null,
   "id": "c2812c46-38fd-4228-b04a-cac4521ccdd5",
   "metadata": {},
   "outputs": [],
   "source": [
    "A(78).multiplicative_order()"
   ]
  },
  {
   "cell_type": "markdown",
   "id": "04814d76-80ef-4003-8ab8-548cd3677b30",
   "metadata": {},
   "source": [
    "Par défaut, les éléments de $\\mathbb Z/n \\mathbb Z$ sont représentés entre $0$ et $n-1$. On peut expliciter un relevé avec `lift` ou `lift_centered`.\n",
    "Attention que SageMath est un peu trop souple sur les conversions automatiques..."
   ]
  },
  {
   "cell_type": "code",
   "execution_count": null,
   "id": "83da53bf-ed1a-41b0-a81f-e34ad1798499",
   "metadata": {},
   "outputs": [],
   "source": [
    "A=Zmod(101)\n",
    "B=Zmod(70)\n",
    "x=A(76)\n",
    "print(B(x))\n",
    "print(B(x.lift_centered()))"
   ]
  },
  {
   "cell_type": "markdown",
   "id": "f3d0d1c9-5f77-4e98-afb3-3dd5fe4e07e5",
   "metadata": {},
   "source": [
    "En pratique il faut souvent choisir si on travaille avec des entiers ou avec des classes d'équivalence modulo $n$ \n",
    "\n",
    "**Exercice :** écrire deux programmes d'exponentiation rapide qui prennent en argument trois entiers $a$, $b$ et $n$ et renvoient le reste de la division euclidienne de $a^b$ par $n$. Le premier programme ne doit manipuler que des entiers, tandis que le deuxième doit utiliser $\\mathbb Z/n\\mathbb Z$.  "
   ]
  },
  {
   "cell_type": "code",
   "execution_count": null,
   "id": "20f7ff77-0f4a-4d67-91cc-fd3a65351b76",
   "metadata": {},
   "outputs": [],
   "source": []
  },
  {
   "cell_type": "markdown",
   "id": "9a4972c6-9257-4f8c-88a3-1d68d5236a9d",
   "metadata": {},
   "source": [
    "## 2. Anneaux de polynômes"
   ]
  },
  {
   "cell_type": "markdown",
   "id": "5f2bc29f-b56c-4fb8-8899-9e5afb5ac08b",
   "metadata": {},
   "source": [
    "La syntaxe pour créer un anneau de polynômes `A` en une ou plusieurs variables sur un anneau `R` est `A.<x,y,z> = R[]` ou `A.<x,y,z> = PolynomialRing(R)` (cette seconde version permet des options éventuelles). Notons que `R` peut être lui-même un anneau de polynômes."
   ]
  },
  {
   "cell_type": "code",
   "execution_count": null,
   "id": "d7052d7a-8916-49c0-aaa0-8963ca944c6c",
   "metadata": {},
   "outputs": [],
   "source": [
    "A.<x,y> = PolynomialRing(ZZ)\n",
    "P=x^2*y^2 + x*y^2 + x*y + y + 1\n",
    "print(A)\n",
    "print(P)\n",
    "\n",
    "B.<x> =  PolynomialRing(ZZ)\n",
    "A2.<y> = PolynomialRing(B)\n",
    "Q=x^2*y^2 + x*y^2 + x*y + y + 1\n",
    "print(A2)\n",
    "print(Q)\n"
   ]
  },
  {
   "cell_type": "markdown",
   "id": "a06f8c57-e61a-4f80-9f9c-ce6618eae53f",
   "metadata": {},
   "source": [
    "Attention à ne pas écraser les inconnues ! Il faut si nécessaire ré-exécuter une cellule précédente. On peut cependant récupérer les indéterminées avec la commande `A.gens()`"
   ]
  },
  {
   "cell_type": "code",
   "execution_count": null,
   "id": "d59d2597-df88-4db1-a59e-41f904f3ae0d",
   "metadata": {},
   "outputs": [],
   "source": [
    "print(parent(y^2+x^3+x+1))\n",
    "y=3\n",
    "print(y^2+x^3+x+1)\n",
    "print(A.gens()[1])"
   ]
  },
  {
   "cell_type": "markdown",
   "id": "58b4abbe-51cf-4787-82cf-de55092fc589",
   "metadata": {},
   "source": [
    "Pour le calcul symbolique on peut souvent se contenter de déclarer des variables, au lieu d'un anneau de polynômes. Mais on n'a pas alors accès aux mêmes méthodes."
   ]
  },
  {
   "cell_type": "code",
   "execution_count": null,
   "id": "9af72cc2-c040-4a9f-925d-d777a1a20b9a",
   "metadata": {},
   "outputs": [],
   "source": [
    "A.<z>=PolynomialRing(QQ)\n",
    "print((z^3+z-1)*(z^5-2*z+2))\n",
    "print((z^2-1).xgcd(z^2-2*z+1))\n",
    "\n",
    "var('z')\n",
    "print((z^3+z-1)*(z^5-2*z+2))\n",
    "print((z^2-1).xgcd(z^2-2*z+1))"
   ]
  },
  {
   "cell_type": "markdown",
   "id": "5bc3b338-2853-4b2e-a07a-4fa91b4e7d84",
   "metadata": {},
   "source": [
    "Beaucoup de commandes ont des noms assez transparents : `P.coefficients()`, `P.degree()`, `P.derivative()`, etc.\n",
    "\n",
    "**Exercices :** \n",
    "- récupérer le quotient et le reste de la division euclidienne de deux polynômes univariés\n",
    "- tester si le polynôme nul a un coefficient dominant\n",
    "- évaluer un polynôme\n",
    "- récupérer le coefficient en $x^2$ d'un polynôme de $\\mathbb Q[x]$."
   ]
  },
  {
   "cell_type": "code",
   "execution_count": null,
   "id": "24a1c316-075a-44e6-b1b6-3e08454bcc6e",
   "metadata": {},
   "outputs": [],
   "source": []
  },
  {
   "cell_type": "markdown",
   "id": "b539d4ec-710a-45d2-9a71-a7e084e51fd3",
   "metadata": {},
   "source": [
    "La commande `P.base_extend(B)` permet d'agrandir facilement l'anneau des coefficients de $P$, accessible par la commande `P.base_ring()`.\n",
    "\n",
    "Exemple : le code ci-dessous ne donne pas vraiment le résultat attendu. Comment modifier la dernière instruction pour obtenir un résultat qui nous convient ?"
   ]
  },
  {
   "cell_type": "code",
   "execution_count": null,
   "id": "1e36aa32-af3d-439e-b9c1-9ec07467004c",
   "metadata": {},
   "outputs": [],
   "source": [
    "A.<x> = PolynomialRing(ZZ)\n",
    "P=x^5+x^3+2 \n",
    "Q=2*x^2-1\n",
    "\n",
    "P // Q"
   ]
  },
  {
   "cell_type": "markdown",
   "id": "bf35dfc0-3cbc-45da-82c8-1e7094eb1a13",
   "metadata": {},
   "source": [
    "# II. Multiplication rapide de polynômes"
   ]
  },
  {
   "cell_type": "markdown",
   "id": "eba2c555-b5ad-4f2f-a839-ee564ac7ee33",
   "metadata": {},
   "source": [
    "## 1. Multiplication standard\n",
    "\n",
    "**Exercice :** Implémenter l'algorithme standard de multiplication de deux polynômes $P$ et $Q$. On n'autorise que la somme ou la différence de deux polynômes et la multiplication par $X^n$ (décalage), ainsi bien sûr que l'accès aux coefficients et au degré.\n",
    "\n",
    "Tester cet algorithme et s'assurer de la correction du résultat."
   ]
  },
  {
   "cell_type": "code",
   "execution_count": null,
   "id": "c58532c8-1731-4bfc-8259-5ffa6ce77594",
   "metadata": {},
   "outputs": [],
   "source": []
  },
  {
   "cell_type": "markdown",
   "id": "66f47b57-e641-4970-bc73-3593fa4e1ca4",
   "metadata": {},
   "source": [
    "## 2. Karatsuba\n",
    "\n",
    "L'algorithme de Karatsuba accélère le produit en utilisant une technique type \"diviser pour régner\". L'idée est la suivante :\n",
    "* Si $P$ et/ou $Q$ sont de degré inférieur à un certain seuil, on effectue le produit standard.\n",
    "* Sinon, on pose $m=\\lfloor n/2\\rfloor$ avec $n=\\max(\\deg(P),\\deg(Q))$. On écrit la division euclidienne\n",
    "  $$P = X^m P_1 + P_0 \\quad \\mathrm{et} \\quad Q = X^m Q_1+Q_0.$$\n",
    "  On a alors\n",
    "  \\begin{align*} PQ &= X^{2m} P_1Q_1 + X^{m}(P_1Q_0+P_0Q_1) + P_0Q_0 \\\\\n",
    "  &= X^{2m} P_1Q_1 + X^{m}\\left((P_1+P_0)(Q_1+Q_0) - P_1Q_1-P_0Q_0\\right) + P_0Q_0 \\end{align*}\n",
    "  de telle sorte que l'on n'a à calculer que trois produits de polynômes de taille moitié : $P_0Q_0$, $P_1Q_1$, et $(P_1+P_0)(Q_1+Q_0)$.\n",
    "  Chacun de ces trois sous-produits se calcule par un appel récursif à l'algorithme de Karatsuba."
   ]
  },
  {
   "cell_type": "markdown",
   "id": "fcb06935-19d9-467d-943c-f8fb02f2f058",
   "metadata": {},
   "source": [
    "**Exercice :** Écrire une fonction `karatsuba(P,Q,seuil)` qui multiplie deux polynômes par l'algorithme de Karatsuba. Comme précédemment, on s'autorise à utiliser la somme ou la différence de deux polynômes et la multiplication par une puissance de $X$. \n",
    "\n",
    "Pour la division euclidienne d'un polynôme $P$ par $X^m$, ce qui revient juste à tronquer la liste de ses coefficients, on pourra utiliser la conversion en polynôme de `list(P)[:m]` et `list(P)[m:]`.\n",
    "\n",
    "Tester cet algorithme et s'assurer de la correction du résultat."
   ]
  },
  {
   "cell_type": "code",
   "execution_count": null,
   "id": "0b50e490-ed51-4846-9ff7-ee52d0804b1e",
   "metadata": {},
   "outputs": [],
   "source": []
  },
  {
   "cell_type": "markdown",
   "id": "6341c607-4850-4a84-811d-68609c7ec57e",
   "metadata": {},
   "source": [
    "En prenant un seuil de $8$, comparer les temps d'exécution de l'algorithme standard et de celui de Karatsuba pour des polynômes de degré $d$ entre $1$ et $200$. On prendra un corps fini (par exemple $\\mathbb{F}_{65537}$) comme anneau de base.\n",
    "\n",
    "Présenter le résultat sous forme de graphe. "
   ]
  },
  {
   "cell_type": "code",
   "execution_count": null,
   "id": "729ede72-af03-465e-9d36-f483a07058f1",
   "metadata": {},
   "outputs": [],
   "source": []
  }
 ],
 "metadata": {
  "kernelspec": {
   "display_name": "SageMath 10.1",
   "language": "sage",
   "name": "sagemath-10.1"
  },
  "language_info": {
   "codemirror_mode": {
    "name": "ipython",
    "version": 3
   },
   "file_extension": ".py",
   "mimetype": "text/x-python",
   "name": "python",
   "nbconvert_exporter": "python",
   "pygments_lexer": "ipython3",
   "version": "3.11.1"
  }
 },
 "nbformat": 4,
 "nbformat_minor": 5
}
