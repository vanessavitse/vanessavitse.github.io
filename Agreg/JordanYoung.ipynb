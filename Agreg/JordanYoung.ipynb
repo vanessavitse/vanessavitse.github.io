{
 "cells": [
  {
   "cell_type": "markdown",
   "metadata": {},
   "source": [
    "## Reduction de Jordan de matrices nilpotentes via les tableaux de Young"
   ]
  },
  {
   "cell_type": "markdown",
   "metadata": {},
   "source": [
    "**Exercice :** base incomplète, version effective.\n",
    "\n",
    "Écrire un programme qui prend en entrée une matrice $A$ et une famille libre $\\mathcal F$ de vecteurs de $\\ker A$, et complète $\\mathcal F$ en une base de $\\ker A$. On ne renverra que la liste des vecteurs ajoutés. On ne demande pas de vérifier que $\\mathcal F$ est libre ni que ses vecteurs sont dans le noyau."
   ]
  },
  {
   "cell_type": "code",
   "execution_count": null,
   "metadata": {
    "collapsed": false,
    "jupyter": {
     "outputs_hidden": false
    }
   },
   "outputs": [],
   "source": []
  },
  {
   "cell_type": "markdown",
   "metadata": {},
   "source": [
    "**Exercice :** tableaux de Young.\n",
    "\n",
    "Un tableau de Young (ou \"équerre\") à $n$ cases est un tableau à deux dimensions, vu comme un liste de listes, telle que :\n",
    "1. la somme des longueurs des lignes vaut $n$\n",
    "1. la $i+1$-ème ligne est de longueur inférieure ou égale à la $i$-ème.\n",
    "\n",
    "Indépendamment du contenu des cases, un tableau de Young correspond naturellement à une partition de $n$ via la suite des longeurs des lignes. Ainsi, l'égalité $10=3+3+2+1+1$ correspond au tableau suivant (le contenu des cases n'important pas ici) :"
   ]
  },
  {
   "cell_type": "code",
   "execution_count": null,
   "metadata": {
    "collapsed": false,
    "jupyter": {
     "outputs_hidden": false
    }
   },
   "outputs": [],
   "source": [
    "T=[[1,2,3],[4,5,6],[7,8],[9],[10]]\n",
    "print(T)"
   ]
  },
  {
   "cell_type": "markdown",
   "metadata": {},
   "source": [
    "Écrire un programme qui prend en entrée un tableau de Young et renvoie sa transposée, c'est-à-dire le tableau obtenu en inversant lignes et colonnes. Sur l'exemple ci-dessus, on doit obtenir le tableau suivant, correspondant à la partition $10=5+3+2$ :"
   ]
  },
  {
   "cell_type": "code",
   "execution_count": null,
   "metadata": {
    "collapsed": false,
    "jupyter": {
     "outputs_hidden": false
    }
   },
   "outputs": [],
   "source": [
    "[[1,4,7,9,10],[2,5,8],[3,6]]"
   ]
  },
  {
   "cell_type": "code",
   "execution_count": null,
   "metadata": {
    "collapsed": false,
    "jupyter": {
     "outputs_hidden": false
    }
   },
   "outputs": [],
   "source": []
  },
  {
   "cell_type": "markdown",
   "metadata": {},
   "source": [
    "**Exercice :** Jordan via les tableaux de Young.\n",
    "\n",
    "- On considère une matrice nilpotente $N$ de taille $n$, d'endomorphisme associé $u$ ; on note $d$ son indice de nilpotence. Montrer que \n",
    "$$\\sum_{k=0}^{d-1} \\dim(\\ker(u^{k+1})/\\ker(u^k)) = n$$\n",
    "\n",
    "- Montrer que pour tout $k$, l'endomorphisme $u$ induit une application injective (injection de Frobenius)\n",
    "$$\\ker(u^{k+1})/\\ker(u^k) \\longrightarrow \\ker(u^{k})/\\ker(u^{k-1})$$\n",
    "\n",
    "- Écrire un programme qui prend en entrée la matrice $N$ et renvoie la transposée du tableau de Young associé à la partition de $n$ ci-dessus (on pourra remplir les cases avec des $0$)"
   ]
  },
  {
   "cell_type": "code",
   "execution_count": null,
   "metadata": {
    "collapsed": false,
    "jupyter": {
     "outputs_hidden": false
    }
   },
   "outputs": [],
   "source": []
  },
  {
   "cell_type": "markdown",
   "metadata": {},
   "source": [
    "- Tester ce programme avec les matrices suivantes, qu'on utilisera aussi dans les tests pour la suite de l'exercice."
   ]
  },
  {
   "cell_type": "code",
   "execution_count": null,
   "metadata": {
    "collapsed": false,
    "jupyter": {
     "outputs_hidden": false
    }
   },
   "outputs": [],
   "source": [
    "N6=matrix([[2,1,-2,7,1,3],[2,0,-1,5,1,2],[1,-1,2,2,-1,0],[-1,0,1,-2,-1,-1],[0,-1,3,0,-2,-1],[1,-1,0,0,1,0]])\n",
    "N8=matrix([[-7,4,-12,-6,13,-10,0,18],[13,-12,20,24,-20,13,-8,-27],[4,-7,6,15,-8,3,-7,-9],[3,-1,5,1,-4,4,1,-6],[-6,3,-7,-8,6,-5,3,11],[-2,-7,8,3,-8,2,3,1],[-1,10,-7,-16,9,-1,6,4],[1,-7,6,10,-6,1,-3,-2]])\n",
    "N11=matrix([[-76,-55,-109,4,19,59,43,-148,227,107,84],[67,263,258,-82,228,-233,13,546,-853,-859,-420],[10,15,16,-7,-5,-9,-13,28,-48,-31,-22],[70,49,100,-5,-23,-54,-42,131,-204,-93,-75],[-51,-64,-95,12,-20,64,20,-151,234,171,102],[-12,-29,-35,4,-31,30,-6,-69,101,97,47],[25,84,87,-23,75,-77,6,179,-276,-274,-135],[7,-9,0,5,-17,6,-6,-14,22,39,14],[-4,7,1,-5,8,-4,2,8,-16,-27,-12],[5,21,21,-4,25,-20,5,48,-70,-72,-33],[8,70,59,-26,66,-59,7,137,-218,-237,-112]])\n",
    "pretty_print(\"N6 = \",N6)\n",
    "pretty_print(\"N8 = \",N8)\n",
    "pretty_print(\"N11 = \",N11)"
   ]
  },
  {
   "cell_type": "code",
   "execution_count": null,
   "metadata": {
    "collapsed": false,
    "jupyter": {
     "outputs_hidden": false
    }
   },
   "outputs": [],
   "source": []
  },
  {
   "cell_type": "markdown",
   "metadata": {},
   "source": [
    "- Remplir le tableau de Young avec des vecteurs de sorte que :\n",
    "    - sur chaque ligne, chaque élément sauf le dernier est l'image par $u$ du vecteur de la case d'après ;\n",
    "    - la $j$-ème colonne (numérotée en partant de $0$) forme une base d'un supplémentaire de $\\ker(u^j)$ dans $\\ker(u^{j+1})$.\n"
   ]
  },
  {
   "cell_type": "code",
   "execution_count": null,
   "metadata": {
    "collapsed": false,
    "jupyter": {
     "outputs_hidden": false
    }
   },
   "outputs": [],
   "source": []
  },
  {
   "cell_type": "markdown",
   "metadata": {},
   "source": [
    "- On convertit le tableau de Young ci-dessus en une famille de vecteurs de $\\mathbb R^n$ en mettant les lignes à la suite les unes des autres.\n",
    "\n",
    "    Justifier qu'on obtient ainsi une base de $\\mathbb R^n$. Quelle est la forme de la matrice de $u$ dans cette base ? Tester sur les exemples."
   ]
  },
  {
   "cell_type": "code",
   "execution_count": null,
   "metadata": {
    "collapsed": false,
    "jupyter": {
     "outputs_hidden": false
    }
   },
   "outputs": [],
   "source": []
  },
  {
   "cell_type": "code",
   "execution_count": null,
   "metadata": {
    "collapsed": false,
    "jupyter": {
     "outputs_hidden": false
    }
   },
   "outputs": [],
   "source": []
  },
  {
   "cell_type": "code",
   "execution_count": null,
   "metadata": {},
   "outputs": [],
   "source": []
  },
  {
   "cell_type": "code",
   "execution_count": null,
   "metadata": {},
   "outputs": [],
   "source": []
  }
 ],
 "metadata": {
  "kernelspec": {
   "display_name": "SageMath 10.1",
   "language": "sage",
   "name": "sagemath-10.1"
  },
  "language_info": {
   "codemirror_mode": {
    "name": "ipython",
    "version": 3
   },
   "file_extension": ".py",
   "mimetype": "text/x-python",
   "name": "python",
   "nbconvert_exporter": "python",
   "pygments_lexer": "ipython3",
   "version": "3.11.1"
  }
 },
 "nbformat": 4,
 "nbformat_minor": 4
}
