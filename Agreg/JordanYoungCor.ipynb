{
 "cells": [
  {
   "cell_type": "markdown",
   "metadata": {},
   "source": [
    "**Exercice :** base incomplète, version effective.\n",
    "\n",
    "Écrire un programme qui prend en entrée une matrice $A$ et une famille libre $\\mathcal F$ de vecteurs de $\\ker A$, et complète $\\mathcal F$ en une base de $\\ker A$. On ne renverra que la liste des vecteurs ajoutés. On ne demande pas de vérifier que $\\mathcal F$ est libre ni que ses vecteurs sont dans le noyau."
   ]
  },
  {
   "cell_type": "code",
   "execution_count": 2,
   "metadata": {
    "collapsed": false,
    "jupyter": {
     "outputs_hidden": false
    }
   },
   "outputs": [
    {
     "data": {
      "text/plain": [
       "[(1, 0, -1), (0, 1, -1)]"
      ]
     },
     "execution_count": 2,
     "metadata": {},
     "output_type": "execute_result"
    }
   ],
   "source": [
    "def completion(A,F):\n",
    "    B=A.right_kernel().basis()\n",
    "    M=matrix(A.ncols(),0)\n",
    "    for v in F:\n",
    "        M=M.augment(v)\n",
    "    ajouts=[]\n",
    "    for i in range(len(B)):\n",
    "        r=M.rank()\n",
    "        M=M.augment(B[i])\n",
    "        if r<M.rank():\n",
    "            ajouts.append(B[i])\n",
    "    return ajouts\n",
    "completion(matrix([[1,1,1]]),[vector([1,0,0])])"
   ]
  },
  {
   "cell_type": "markdown",
   "metadata": {},
   "source": [
    "**Exercice :** tableaux de Young.\n",
    "\n",
    "Un tableau de Young (ou \"équerre\") à $n$ cases est un tableau à deux dimensions, vu comme un liste de listes, telle que :\n",
    "1. la somme des longueurs des lignes vaut $n$\n",
    "1. la $i+1$-ème ligne est de longueur inférieure ou égale à la $i$-ème.\n",
    "\n",
    "Indépendamment du contenu des cases, un tableau de Young correspond naturellement à une partition de $n$ via la suite des longeurs des lignes. Ainsi, l'égalité $10=3+3+2+1+1$ correspond au tableau suivant (le contenu des cases n'important pas ici) :"
   ]
  },
  {
   "cell_type": "code",
   "execution_count": 3,
   "metadata": {
    "collapsed": false,
    "jupyter": {
     "outputs_hidden": false
    }
   },
   "outputs": [
    {
     "name": "stdout",
     "output_type": "stream",
     "text": [
      "[[1, 2, 3], [4, 5, 6], [7, 8], [9], [10]]\n"
     ]
    }
   ],
   "source": [
    "T=[[1,2,3],[4,5,6],[7,8],[9],[10]]\n",
    "print(T)"
   ]
  },
  {
   "cell_type": "markdown",
   "metadata": {},
   "source": [
    "Écrire un programme qui prend en entrée un tableau de Young et renvoie sa transposée, c'est-à-dire le tableau obtenu en inversant lignes et colonnes. Sur l'exemple ci-dessus, on doit obtenir le tableau suivant, correspondant à la partition $10=5+3+2$ :"
   ]
  },
  {
   "cell_type": "code",
   "execution_count": 4,
   "metadata": {
    "collapsed": false,
    "jupyter": {
     "outputs_hidden": false
    }
   },
   "outputs": [
    {
     "data": {
      "text/plain": [
       "[[1, 4, 7, 9, 10], [2, 5, 8], [3, 6]]"
      ]
     },
     "execution_count": 4,
     "metadata": {},
     "output_type": "execute_result"
    }
   ],
   "source": [
    "[[1,4,7,9,10],[2,5,8],[3,6]]\n"
   ]
  },
  {
   "cell_type": "code",
   "execution_count": 5,
   "metadata": {
    "collapsed": false,
    "jupyter": {
     "outputs_hidden": false
    }
   },
   "outputs": [
    {
     "name": "stdout",
     "output_type": "stream",
     "text": [
      "[[1, 4, 7, 9, 10], [2, 5, 8], [3, 6]]\n"
     ]
    }
   ],
   "source": [
    "def transpose(T):\n",
    "    res=[]\n",
    "    for j in range(len(T[0])): #on crée autant de ligne dans la transposée que colonnes dans T\n",
    "        res.append([])\n",
    "    for i in range(len(T)):\n",
    "        for j in range(len(T[i])):\n",
    "            res[j].append(T[i][j])\n",
    "    return res\n",
    "print(transpose(T))"
   ]
  },
  {
   "cell_type": "markdown",
   "metadata": {},
   "source": [
    "**Exercice :** Jordan via les tableaux de Young.\n",
    "\n",
    "- On considère une matrice nilpotente $N$ de taille $n$, d'endomorphisme associé $u$ ; on note $d$ son indice de nilpotence. Montrer que \n",
    "$$\\sum_{k=0}^{d-1} \\dim(\\ker(u^{k+1})/\\ker(u^k)) = n$$\n",
    "\n",
    "- Montrer que pour tout $k$, l'endomorphisme $u$ induit une application injective (injection de Frobenius)\n",
    "$$\\ker(u^{k+1})/\\ker(u^k) \\longrightarrow \\ker(u^{k})/\\ker(u^{k-1})$$\n",
    "\n",
    "- Écrire un programme qui prend en entrée la matrice $N$ et renvoie la transposée du tableau de Young associé à la partition de $n$ ci-dessus (on pourra remplir les cases avec des $0$)"
   ]
  },
  {
   "cell_type": "code",
   "execution_count": 15,
   "metadata": {
    "collapsed": false,
    "jupyter": {
     "outputs_hidden": false
    }
   },
   "outputs": [],
   "source": [
    "def YoungNil(N):\n",
    "    n=N.nrows()\n",
    "    Nk=N\n",
    "    r=Nk.rank()\n",
    "    T=[[0]*(n-r)] #dim((ker N)/ker(id)) = #dim(ker N)  = #nb de blocs de Jordan\n",
    "    while (r>0):\n",
    "        Nk*=N \n",
    "        r2=Nk.rank()\n",
    "        T.append([0]*(r-r2)) #dim(ker(N^k)/ker(N^{k-1})) = #nb de blocs de Jordan de taille >= k  \n",
    "        r=r2        \n",
    "    return transpose(T)"
   ]
  },
  {
   "cell_type": "markdown",
   "metadata": {},
   "source": [
    "- Tester ce programme avec les matrices suivantes, qu'on utilisera aussi dans les tests pour la suite de l'exercice."
   ]
  },
  {
   "cell_type": "code",
   "execution_count": 7,
   "metadata": {
    "collapsed": false,
    "jupyter": {
     "outputs_hidden": false
    }
   },
   "outputs": [
    {
     "data": {
      "text/html": [
       "<html>\\(\\displaystyle \\verb|N6|\\verb| |\\verb|=| \\left(\\begin{array}{rrrrrr}\n",
       "2 & 1 & -2 & 7 & 1 & 3 \\\\\n",
       "2 & 0 & -1 & 5 & 1 & 2 \\\\\n",
       "1 & -1 & 2 & 2 & -1 & 0 \\\\\n",
       "-1 & 0 & 1 & -2 & -1 & -1 \\\\\n",
       "0 & -1 & 3 & 0 & -2 & -1 \\\\\n",
       "1 & -1 & 0 & 0 & 1 & 0\n",
       "\\end{array}\\right)\\)</html>"
      ],
      "text/latex": [
       "$\\displaystyle \\verb|N6|\\verb| |\\verb|=| \\left(\\begin{array}{rrrrrr}\n",
       "2 & 1 & -2 & 7 & 1 & 3 \\\\\n",
       "2 & 0 & -1 & 5 & 1 & 2 \\\\\n",
       "1 & -1 & 2 & 2 & -1 & 0 \\\\\n",
       "-1 & 0 & 1 & -2 & -1 & -1 \\\\\n",
       "0 & -1 & 3 & 0 & -2 & -1 \\\\\n",
       "1 & -1 & 0 & 0 & 1 & 0\n",
       "\\end{array}\\right)$"
      ],
      "text/plain": [
       "'N6 = ' [ 2  1 -2  7  1  3]\n",
       "[ 2  0 -1  5  1  2]\n",
       "[ 1 -1  2  2 -1  0]\n",
       "[-1  0  1 -2 -1 -1]\n",
       "[ 0 -1  3  0 -2 -1]\n",
       "[ 1 -1  0  0  1  0]"
      ]
     },
     "metadata": {},
     "output_type": "display_data"
    },
    {
     "name": "stdout",
     "output_type": "stream",
     "text": [
      "[[0, 0, 0], [0, 0], [0]]\n"
     ]
    },
    {
     "data": {
      "text/html": [
       "<html>\\(\\displaystyle \\verb|N8|\\verb| |\\verb|=| \\left(\\begin{array}{rrrrrrrr}\n",
       "-7 & 4 & -12 & -6 & 13 & -10 & 0 & 18 \\\\\n",
       "13 & -12 & 20 & 24 & -20 & 13 & -8 & -27 \\\\\n",
       "4 & -7 & 6 & 15 & -8 & 3 & -7 & -9 \\\\\n",
       "3 & -1 & 5 & 1 & -4 & 4 & 1 & -6 \\\\\n",
       "-6 & 3 & -7 & -8 & 6 & -5 & 3 & 11 \\\\\n",
       "-2 & -7 & 8 & 3 & -8 & 2 & 3 & 1 \\\\\n",
       "-1 & 10 & -7 & -16 & 9 & -1 & 6 & 4 \\\\\n",
       "1 & -7 & 6 & 10 & -6 & 1 & -3 & -2\n",
       "\\end{array}\\right)\\)</html>"
      ],
      "text/latex": [
       "$\\displaystyle \\verb|N8|\\verb| |\\verb|=| \\left(\\begin{array}{rrrrrrrr}\n",
       "-7 & 4 & -12 & -6 & 13 & -10 & 0 & 18 \\\\\n",
       "13 & -12 & 20 & 24 & -20 & 13 & -8 & -27 \\\\\n",
       "4 & -7 & 6 & 15 & -8 & 3 & -7 & -9 \\\\\n",
       "3 & -1 & 5 & 1 & -4 & 4 & 1 & -6 \\\\\n",
       "-6 & 3 & -7 & -8 & 6 & -5 & 3 & 11 \\\\\n",
       "-2 & -7 & 8 & 3 & -8 & 2 & 3 & 1 \\\\\n",
       "-1 & 10 & -7 & -16 & 9 & -1 & 6 & 4 \\\\\n",
       "1 & -7 & 6 & 10 & -6 & 1 & -3 & -2\n",
       "\\end{array}\\right)$"
      ],
      "text/plain": [
       "'N8 = ' [ -7   4 -12  -6  13 -10   0  18]\n",
       "[ 13 -12  20  24 -20  13  -8 -27]\n",
       "[  4  -7   6  15  -8   3  -7  -9]\n",
       "[  3  -1   5   1  -4   4   1  -6]\n",
       "[ -6   3  -7  -8   6  -5   3  11]\n",
       "[ -2  -7   8   3  -8   2   3   1]\n",
       "[ -1  10  -7 -16   9  -1   6   4]\n",
       "[  1  -7   6  10  -6   1  -3  -2]"
      ]
     },
     "metadata": {},
     "output_type": "display_data"
    },
    {
     "name": "stdout",
     "output_type": "stream",
     "text": [
      "[[0, 0, 0, 0, 0, 0], [0, 0]]\n"
     ]
    },
    {
     "data": {
      "text/html": [
       "<html>\\(\\displaystyle \\verb|N11|\\verb| |\\verb|=| \\left(\\begin{array}{rrrrrrrrrrr}\n",
       "-76 & -55 & -109 & 4 & 19 & 59 & 43 & -148 & 227 & 107 & 84 \\\\\n",
       "67 & 263 & 258 & -82 & 228 & -233 & 13 & 546 & -853 & -859 & -420 \\\\\n",
       "10 & 15 & 16 & -7 & -5 & -9 & -13 & 28 & -48 & -31 & -22 \\\\\n",
       "70 & 49 & 100 & -5 & -23 & -54 & -42 & 131 & -204 & -93 & -75 \\\\\n",
       "-51 & -64 & -95 & 12 & -20 & 64 & 20 & -151 & 234 & 171 & 102 \\\\\n",
       "-12 & -29 & -35 & 4 & -31 & 30 & -6 & -69 & 101 & 97 & 47 \\\\\n",
       "25 & 84 & 87 & -23 & 75 & -77 & 6 & 179 & -276 & -274 & -135 \\\\\n",
       "7 & -9 & 0 & 5 & -17 & 6 & -6 & -14 & 22 & 39 & 14 \\\\\n",
       "-4 & 7 & 1 & -5 & 8 & -4 & 2 & 8 & -16 & -27 & -12 \\\\\n",
       "5 & 21 & 21 & -4 & 25 & -20 & 5 & 48 & -70 & -72 & -33 \\\\\n",
       "8 & 70 & 59 & -26 & 66 & -59 & 7 & 137 & -218 & -237 & -112\n",
       "\\end{array}\\right)\\)</html>"
      ],
      "text/latex": [
       "$\\displaystyle \\verb|N11|\\verb| |\\verb|=| \\left(\\begin{array}{rrrrrrrrrrr}\n",
       "-76 & -55 & -109 & 4 & 19 & 59 & 43 & -148 & 227 & 107 & 84 \\\\\n",
       "67 & 263 & 258 & -82 & 228 & -233 & 13 & 546 & -853 & -859 & -420 \\\\\n",
       "10 & 15 & 16 & -7 & -5 & -9 & -13 & 28 & -48 & -31 & -22 \\\\\n",
       "70 & 49 & 100 & -5 & -23 & -54 & -42 & 131 & -204 & -93 & -75 \\\\\n",
       "-51 & -64 & -95 & 12 & -20 & 64 & 20 & -151 & 234 & 171 & 102 \\\\\n",
       "-12 & -29 & -35 & 4 & -31 & 30 & -6 & -69 & 101 & 97 & 47 \\\\\n",
       "25 & 84 & 87 & -23 & 75 & -77 & 6 & 179 & -276 & -274 & -135 \\\\\n",
       "7 & -9 & 0 & 5 & -17 & 6 & -6 & -14 & 22 & 39 & 14 \\\\\n",
       "-4 & 7 & 1 & -5 & 8 & -4 & 2 & 8 & -16 & -27 & -12 \\\\\n",
       "5 & 21 & 21 & -4 & 25 & -20 & 5 & 48 & -70 & -72 & -33 \\\\\n",
       "8 & 70 & 59 & -26 & 66 & -59 & 7 & 137 & -218 & -237 & -112\n",
       "\\end{array}\\right)$"
      ],
      "text/plain": [
       "'N11 = ' [ -76  -55 -109    4   19   59   43 -148  227  107   84]\n",
       "[  67  263  258  -82  228 -233   13  546 -853 -859 -420]\n",
       "[  10   15   16   -7   -5   -9  -13   28  -48  -31  -22]\n",
       "[  70   49  100   -5  -23  -54  -42  131 -204  -93  -75]\n",
       "[ -51  -64  -95   12  -20   64   20 -151  234  171  102]\n",
       "[ -12  -29  -35    4  -31   30   -6  -69  101   97   47]\n",
       "[  25   84   87  -23   75  -77    6  179 -276 -274 -135]\n",
       "[   7   -9    0    5  -17    6   -6  -14   22   39   14]\n",
       "[  -4    7    1   -5    8   -4    2    8  -16  -27  -12]\n",
       "[   5   21   21   -4   25  -20    5   48  -70  -72  -33]\n",
       "[   8   70   59  -26   66  -59    7  137 -218 -237 -112]"
      ]
     },
     "metadata": {},
     "output_type": "display_data"
    },
    {
     "name": "stdout",
     "output_type": "stream",
     "text": [
      "[[0, 0, 0, 0], [0, 0, 0], [0, 0, 0], [0]]\n"
     ]
    }
   ],
   "source": [
    "N6=matrix([[2,1,-2,7,1,3],[2,0,-1,5,1,2],[1,-1,2,2,-1,0],[-1,0,1,-2,-1,-1],[0,-1,3,0,-2,-1],[1,-1,0,0,1,0]])\n",
    "N8=matrix([[-7,4,-12,-6,13,-10,0,18],[13,-12,20,24,-20,13,-8,-27],[4,-7,6,15,-8,3,-7,-9],[3,-1,5,1,-4,4,1,-6],[-6,3,-7,-8,6,-5,3,11],[-2,-7,8,3,-8,2,3,1],[-1,10,-7,-16,9,-1,6,4],[1,-7,6,10,-6,1,-3,-2]])\n",
    "N11=matrix([[-76,-55,-109,4,19,59,43,-148,227,107,84],[67,263,258,-82,228,-233,13,546,-853,-859,-420],[10,15,16,-7,-5,-9,-13,28,-48,-31,-22],[70,49,100,-5,-23,-54,-42,131,-204,-93,-75],[-51,-64,-95,12,-20,64,20,-151,234,171,102],[-12,-29,-35,4,-31,30,-6,-69,101,97,47],[25,84,87,-23,75,-77,6,179,-276,-274,-135],[7,-9,0,5,-17,6,-6,-14,22,39,14],[-4,7,1,-5,8,-4,2,8,-16,-27,-12],[5,21,21,-4,25,-20,5,48,-70,-72,-33],[8,70,59,-26,66,-59,7,137,-218,-237,-112]])\n",
    "pretty_print(\"N6 = \",N6)\n",
    "print(YoungNil(N6))\n",
    "pretty_print(\"N8 = \",N8)\n",
    "print(YoungNil(N8))\n",
    "pretty_print(\"N11 = \",N11)\n",
    "print(YoungNil(N11))"
   ]
  },
  {
   "cell_type": "code",
   "execution_count": 12,
   "metadata": {
    "collapsed": false,
    "jupyter": {
     "outputs_hidden": false
    }
   },
   "outputs": [
    {
     "data": {
      "text/plain": [
       "[[(1, 2, 2, -1, 1, 2), (-2, -1, 2, 1, 3, 0), (0, 0, 1, 0, 0, 0)],\n",
       " [(2, 2, 1, -1, 0, 1), (1, 0, 0, 0, 0, 0)],\n",
       " [(1, 0, 0, -1, -1, 2)]]"
      ]
     },
     "execution_count": 12,
     "metadata": {},
     "output_type": "execute_result"
    }
   ],
   "source": [
    "def YoungNil2(N):\n",
    "    T = YoungNil(N)\n",
    "    d=len(T[0]) #indice de nilpotence = # dim(ker N)\n",
    "    F=[] # base du supplémentaire de ker(N^j) dans E\n",
    "    for j in range(d-1,-1,-1): #remplissage du tableau colonne par colonne\n",
    "        for i in range(len(F)): #on commence par prendre l'image de la colonne précédente (on procède en place) \n",
    "            F[i]=N*F[i] \n",
    "        F2=completion(N^(j+1),F+(N^j).right_kernel().basis()) #on complète la famille déjà remplie en une base du supplémentaire de ker(N^j) dans ker(N^(j+1))\n",
    "        F=F+F2\n",
    "        for i in range(len(F)):\n",
    "            T[i][j]=F[i]\n",
    "    return T\n",
    "YoungNil2(N6)\n",
    "        \n",
    "    "
   ]
  },
  {
   "cell_type": "markdown",
   "metadata": {},
   "source": [
    "- Remplir le tableau de Young avec des vecteurs de sorte que :\n",
    "    - sur chaque ligne, chaque élément sauf le dernier est l'image par $u$ du vecteur de la case d'après ;\n",
    "    - la $j$-ème colonne (numérotée en partant de $0$) forme une base d'un supplémentaire de $\\ker(u^j)$ dans $\\ker(u^{j+1})$.\n"
   ]
  },
  {
   "cell_type": "code",
   "execution_count": null,
   "metadata": {
    "collapsed": false,
    "jupyter": {
     "outputs_hidden": false
    }
   },
   "outputs": [],
   "source": []
  },
  {
   "cell_type": "markdown",
   "metadata": {},
   "source": [
    "- On convertit le tableau de Young ci-dessus en une famille de vecteurs de $\\mathbb R^n$ en mettant les lignes à la suite les unes des autres.\n",
    "\n",
    "    Justifier qu'on obtient ainsi une base de $\\mathbb R^n$. Quelle est la forme de la matrice de $u$ dans cette base ? Tester sur les exemples."
   ]
  },
  {
   "cell_type": "code",
   "execution_count": 13,
   "metadata": {
    "collapsed": false,
    "jupyter": {
     "outputs_hidden": false
    }
   },
   "outputs": [
    {
     "data": {
      "text/plain": [
       "(\n",
       "[ 1 -2  0  2  1  1]  [0 1 0 0 0 0]\n",
       "[ 2 -1  0  2  0  0]  [0 0 1 0 0 0]\n",
       "[ 2  2  1  1  0  0]  [0 0 0 0 0 0]\n",
       "[-1  1  0 -1  0 -1]  [0 0 0 0 1 0]\n",
       "[ 1  3  0  0  0 -1]  [0 0 0 0 0 0]\n",
       "[ 2  0  0  1  0  2], [0 0 0 0 0 0]\n",
       ")"
      ]
     },
     "execution_count": 13,
     "metadata": {},
     "output_type": "execute_result"
    }
   ],
   "source": [
    "def Jordan(N):\n",
    "    T=YoungNil2(N)\n",
    "    P=matrix(N.nrows(),0)\n",
    "    for i in range(len(T)):\n",
    "        for j in range(len(T[i])):\n",
    "            P=P.augment(T[i][j])\n",
    "    return (P,P^(-1)*N*P)\n",
    "Jordan(N6)"
   ]
  },
  {
   "cell_type": "code",
   "execution_count": 14,
   "metadata": {
    "collapsed": false,
    "jupyter": {
     "outputs_hidden": false
    }
   },
   "outputs": [
    {
     "data": {
      "text/plain": [
       "(\n",
       "[  2  13  18  -3   4   0 -19   1]  [0 1 0 0 0 0 0 0]\n",
       "[ 24  32 -54 -10 -12   1  72   0]  [0 0 1 0 0 0 0 0]\n",
       "[  8  12 -18  -9  -7   0  44   0]  [0 0 0 1 0 0 0 0]\n",
       "[  4   4 -11   0  -1   0   2   3]  [0 0 0 0 1 0 0 0]\n",
       "[-14 -21  25   3   3   0 -27   0]  [0 0 0 0 0 1 0 0]\n",
       "[ -4 -10   0   2  -7   0  -2  -6]  [0 0 0 0 0 0 0 0]\n",
       "[ -6  -9  13   7  10   0 -43   2]  [0 0 0 0 0 0 0 1]\n",
       "[ 10  17 -14  -5  -7   0  25  -3], [0 0 0 0 0 0 0 0]\n",
       ")"
      ]
     },
     "execution_count": 14,
     "metadata": {},
     "output_type": "execute_result"
    }
   ],
   "source": [
    "Jordan(N8)"
   ]
  },
  {
   "cell_type": "code",
   "execution_count": 11,
   "metadata": {},
   "outputs": [
    {
     "data": {
      "text/html": [
       "<html>\\(\\displaystyle \\left(\\left(\\begin{array}{rrrrrrrrrrr}\n",
       "116 & -58 & -76 & 1 & -73 & 8 & 1 & -50 & 88 & 0 & 1 \\\\\n",
       "266 & 441 & 67 & 0 & -100 & -353 & 0 & -395 & -170 & 1 & 0 \\\\\n",
       "-12 & 10 & 10 & 0 & 0 & -12 & 0 & 6 & -11 & 0 & 2 \\\\\n",
       "-108 & 52 & 70 & 0 & 64 & -5 & 0 & 55 & -80 & 0 & 508 \\\\\n",
       "28 & -92 & -51 & 0 & -27 & 51 & 0 & 22 & 68 & 0 & -103 \\\\\n",
       "-28 & -56 & -12 & 0 & 1 & 35 & 0 & 51 & 25 & 0 & 111 \\\\\n",
       "80 & 144 & 25 & 0 & -24 & -110 & 0 & -127 & -57 & 0 & -176 \\\\\n",
       "-34 & -19 & 7 & 0 & 17 & 21 & 0 & 34 & -1 & 0 & -153 \\\\\n",
       "20 & 12 & -4 & 0 & -14 & -16 & 0 & -15 & 3 & 1 & -28 \\\\\n",
       "26 & 39 & 5 & 0 & -4 & -28 & 0 & -44 & -16 & 0 & -238 \\\\\n",
       "94 & 119 & 8 & 0 & -44 & -104 & 1 & -118 & -36 & -1 & 124\n",
       "\\end{array}\\right), \\left(\\begin{array}{rrrrrrrrrrr}\n",
       "0 & 1 & 0 & 0 & 0 & 0 & 0 & 0 & 0 & 0 & 0 \\\\\n",
       "0 & 0 & 1 & 0 & 0 & 0 & 0 & 0 & 0 & 0 & 0 \\\\\n",
       "0 & 0 & 0 & 1 & 0 & 0 & 0 & 0 & 0 & 0 & 0 \\\\\n",
       "0 & 0 & 0 & 0 & 0 & 0 & 0 & 0 & 0 & 0 & 0 \\\\\n",
       "0 & 0 & 0 & 0 & 0 & 1 & 0 & 0 & 0 & 0 & 0 \\\\\n",
       "0 & 0 & 0 & 0 & 0 & 0 & 1 & 0 & 0 & 0 & 0 \\\\\n",
       "0 & 0 & 0 & 0 & 0 & 0 & 0 & 0 & 0 & 0 & 0 \\\\\n",
       "0 & 0 & 0 & 0 & 0 & 0 & 0 & 0 & 1 & 0 & 0 \\\\\n",
       "0 & 0 & 0 & 0 & 0 & 0 & 0 & 0 & 0 & 1 & 0 \\\\\n",
       "0 & 0 & 0 & 0 & 0 & 0 & 0 & 0 & 0 & 0 & 0 \\\\\n",
       "0 & 0 & 0 & 0 & 0 & 0 & 0 & 0 & 0 & 0 & 0\n",
       "\\end{array}\\right)\\right)\\)</html>"
      ],
      "text/latex": [
       "$\\displaystyle \\left(\\left(\\begin{array}{rrrrrrrrrrr}\n",
       "116 & -58 & -76 & 1 & -73 & 8 & 1 & -50 & 88 & 0 & 1 \\\\\n",
       "266 & 441 & 67 & 0 & -100 & -353 & 0 & -395 & -170 & 1 & 0 \\\\\n",
       "-12 & 10 & 10 & 0 & 0 & -12 & 0 & 6 & -11 & 0 & 2 \\\\\n",
       "-108 & 52 & 70 & 0 & 64 & -5 & 0 & 55 & -80 & 0 & 508 \\\\\n",
       "28 & -92 & -51 & 0 & -27 & 51 & 0 & 22 & 68 & 0 & -103 \\\\\n",
       "-28 & -56 & -12 & 0 & 1 & 35 & 0 & 51 & 25 & 0 & 111 \\\\\n",
       "80 & 144 & 25 & 0 & -24 & -110 & 0 & -127 & -57 & 0 & -176 \\\\\n",
       "-34 & -19 & 7 & 0 & 17 & 21 & 0 & 34 & -1 & 0 & -153 \\\\\n",
       "20 & 12 & -4 & 0 & -14 & -16 & 0 & -15 & 3 & 1 & -28 \\\\\n",
       "26 & 39 & 5 & 0 & -4 & -28 & 0 & -44 & -16 & 0 & -238 \\\\\n",
       "94 & 119 & 8 & 0 & -44 & -104 & 1 & -118 & -36 & -1 & 124\n",
       "\\end{array}\\right), \\left(\\begin{array}{rrrrrrrrrrr}\n",
       "0 & 1 & 0 & 0 & 0 & 0 & 0 & 0 & 0 & 0 & 0 \\\\\n",
       "0 & 0 & 1 & 0 & 0 & 0 & 0 & 0 & 0 & 0 & 0 \\\\\n",
       "0 & 0 & 0 & 1 & 0 & 0 & 0 & 0 & 0 & 0 & 0 \\\\\n",
       "0 & 0 & 0 & 0 & 0 & 0 & 0 & 0 & 0 & 0 & 0 \\\\\n",
       "0 & 0 & 0 & 0 & 0 & 1 & 0 & 0 & 0 & 0 & 0 \\\\\n",
       "0 & 0 & 0 & 0 & 0 & 0 & 1 & 0 & 0 & 0 & 0 \\\\\n",
       "0 & 0 & 0 & 0 & 0 & 0 & 0 & 0 & 0 & 0 & 0 \\\\\n",
       "0 & 0 & 0 & 0 & 0 & 0 & 0 & 0 & 1 & 0 & 0 \\\\\n",
       "0 & 0 & 0 & 0 & 0 & 0 & 0 & 0 & 0 & 1 & 0 \\\\\n",
       "0 & 0 & 0 & 0 & 0 & 0 & 0 & 0 & 0 & 0 & 0 \\\\\n",
       "0 & 0 & 0 & 0 & 0 & 0 & 0 & 0 & 0 & 0 & 0\n",
       "\\end{array}\\right)\\right)$"
      ],
      "text/plain": [
       "(\n",
       "[ 116  -58  -76    1  -73    8    1  -50   88    0    1]\n",
       "[ 266  441   67    0 -100 -353    0 -395 -170    1    0]\n",
       "[ -12   10   10    0    0  -12    0    6  -11    0    2]\n",
       "[-108   52   70    0   64   -5    0   55  -80    0  508]\n",
       "[  28  -92  -51    0  -27   51    0   22   68    0 -103]\n",
       "[ -28  -56  -12    0    1   35    0   51   25    0  111]\n",
       "[  80  144   25    0  -24 -110    0 -127  -57    0 -176]\n",
       "[ -34  -19    7    0   17   21    0   34   -1    0 -153]\n",
       "[  20   12   -4    0  -14  -16    0  -15    3    1  -28]\n",
       "[  26   39    5    0   -4  -28    0  -44  -16    0 -238]\n",
       "[  94  119    8    0  -44 -104    1 -118  -36   -1  124],\n",
       "\n",
       "[0 1 0 0 0 0 0 0 0 0 0]\n",
       "[0 0 1 0 0 0 0 0 0 0 0]\n",
       "[0 0 0 1 0 0 0 0 0 0 0]\n",
       "[0 0 0 0 0 0 0 0 0 0 0]\n",
       "[0 0 0 0 0 1 0 0 0 0 0]\n",
       "[0 0 0 0 0 0 1 0 0 0 0]\n",
       "[0 0 0 0 0 0 0 0 0 0 0]\n",
       "[0 0 0 0 0 0 0 0 1 0 0]\n",
       "[0 0 0 0 0 0 0 0 0 1 0]\n",
       "[0 0 0 0 0 0 0 0 0 0 0]\n",
       "[0 0 0 0 0 0 0 0 0 0 0]\n",
       ")"
      ]
     },
     "metadata": {},
     "output_type": "display_data"
    }
   ],
   "source": [
    "pretty_print(Jordan(N11))"
   ]
  },
  {
   "cell_type": "code",
   "execution_count": null,
   "metadata": {},
   "outputs": [],
   "source": []
  }
 ],
 "metadata": {
  "kernelspec": {
   "display_name": "SageMath 10.1",
   "language": "sage",
   "name": "sagemath-10.1"
  },
  "language_info": {
   "codemirror_mode": {
    "name": "ipython",
    "version": 3
   },
   "file_extension": ".py",
   "mimetype": "text/x-python",
   "name": "python",
   "nbconvert_exporter": "python",
   "pygments_lexer": "ipython3",
   "version": "3.11.1"
  }
 },
 "nbformat": 4,
 "nbformat_minor": 4
}
