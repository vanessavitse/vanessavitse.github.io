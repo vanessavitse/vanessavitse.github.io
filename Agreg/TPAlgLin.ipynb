{
 "cells": [
  {
   "cell_type": "markdown",
   "id": "5163939d-283a-4bf9-ade8-1000578b2be3",
   "metadata": {},
   "source": [
    "# TP Algèbre linéaire"
   ]
  },
  {
   "cell_type": "markdown",
   "id": "a880bd10-e17b-462e-b755-54831dc66ce8",
   "metadata": {},
   "source": [
    "## 1. Prise en main"
   ]
  },
  {
   "cell_type": "markdown",
   "id": "4ca11a15-35a3-4772-976f-502856947a3e",
   "metadata": {},
   "source": [
    "**Création de matrices et vecteurs**"
   ]
  },
  {
   "cell_type": "code",
   "execution_count": null,
   "id": "09426599-a81a-4d4c-8402-821f343c1f10",
   "metadata": {},
   "outputs": [],
   "source": [
    "%display latex\n",
    "v=vector([1,1,0,-2,3])\n",
    "v, parent(v)"
   ]
  },
  {
   "cell_type": "code",
   "execution_count": null,
   "id": "efcf593e-d9a9-4451-b3e2-70ebe150c5f8",
   "metadata": {},
   "outputs": [],
   "source": [
    "A=matrix([[1,1,2],[-1,0,4]])\n",
    "pretty_print(A)\n",
    "pretty_print(parent(A))\n",
    "pretty_print(A[0,2])\n",
    "pretty_print(A[1])\n",
    "pretty_print(parent(A[1]))\n",
    "pretty_print(A[:,2])\n",
    "pretty_print(parent(A[:,2]))"
   ]
  },
  {
   "cell_type": "code",
   "execution_count": null,
   "id": "3c6b3b9f-9dca-47f6-8e6c-fc3bebac8adf",
   "metadata": {},
   "outputs": [],
   "source": [
    "B=matrix(QQ,3,5,[1,2,3,4,5,6,7,8,9,10,11,12,13,14,15])\n",
    "pretty_print(B)\n",
    "pretty_print(B*v)\n",
    "pretty_print(A*B)"
   ]
  },
  {
   "cell_type": "code",
   "execution_count": null,
   "id": "83db3cbe-c51c-445e-8ede-71b1d817b41b",
   "metadata": {},
   "outputs": [],
   "source": [
    "pretty_print(B.dimensions())\n",
    "pretty_print(B.nrows(),B.ncols())"
   ]
  },
  {
   "cell_type": "markdown",
   "id": "3705c044-bd0a-464c-81eb-cbf42240fe5a",
   "metadata": {},
   "source": [
    "**Matrices utiles**"
   ]
  },
  {
   "cell_type": "code",
   "execution_count": null,
   "id": "ce6ca660-5bba-4748-b896-0dfb99a80f81",
   "metadata": {},
   "outputs": [],
   "source": [
    "print(zero_matrix(CC,3,4))\n",
    "print(identity_matrix(4))\n",
    "print(zero_vector(5))\n",
    "print(diagonal_matrix([3,4,5,6]))"
   ]
  },
  {
   "cell_type": "markdown",
   "id": "493d07f6-b949-47af-a466-00e06a8acf0a",
   "metadata": {},
   "source": [
    "On peut aussi créer des matrices aléatoires ayant des propriétés intéressantes, regardez en détail la documentation de la fonction `random_matrix`."
   ]
  },
  {
   "cell_type": "markdown",
   "id": "d2a1717a-359e-4b07-bc96-c9a01efd6de2",
   "metadata": {},
   "source": [
    "**Construction de matrices avec formule pour $a_{i,j}$**"
   ]
  },
  {
   "cell_type": "code",
   "execution_count": null,
   "id": "a865bcf7-a424-481d-ad2a-9525044772b0",
   "metadata": {},
   "outputs": [],
   "source": [
    "HilbertMat=matrix(5,5,lambda i,j:1/(i+j+1))\n",
    "pretty_print(HilbertMat)\n",
    "pretty_print(HilbertMat.det())"
   ]
  },
  {
   "cell_type": "markdown",
   "id": "879adf79-ee33-49a9-b1cf-b98175630c68",
   "metadata": {},
   "source": [
    "**Matrices par blocs**"
   ]
  },
  {
   "cell_type": "code",
   "execution_count": null,
   "id": "744412ae-9e5d-4dbb-9bc8-c0706a828077",
   "metadata": {},
   "outputs": [],
   "source": [
    "pretty_print(B.augment(A.transpose()))"
   ]
  },
  {
   "cell_type": "code",
   "execution_count": null,
   "id": "801202e1-fbbc-4220-87b7-9e29f086d2aa",
   "metadata": {},
   "outputs": [],
   "source": [
    "block_matrix([[B,identity_matrix(3,3)],[zero_matrix(2,5),A]])"
   ]
  },
  {
   "cell_type": "code",
   "execution_count": null,
   "id": "994de7e2-367e-4824-96fa-2a1c18a9a943",
   "metadata": {},
   "outputs": [],
   "source": [
    "block_matrix([[B,identity_matrix(3,3)],[zero_matrix(2,5),A]],subdivide=False)"
   ]
  },
  {
   "cell_type": "markdown",
   "id": "8b791303-2672-4c3a-b25b-8fa9490da31e",
   "metadata": {},
   "source": [
    "**Espace de matrices**"
   ]
  },
  {
   "cell_type": "code",
   "execution_count": null,
   "id": "0fce78dd-f374-4e3c-bdb7-6cacb1810e28",
   "metadata": {},
   "outputs": [],
   "source": [
    "E=MatrixSpace(ZZ,3,3)\n",
    "M=E.random_element()\n",
    "pretty_print(M,M.determinant())\n",
    "M=M.change_ring(GF(7))\n",
    "pretty_print(M,M.determinant())"
   ]
  },
  {
   "cell_type": "markdown",
   "id": "90e38180-c2f7-42f3-9918-817411532bcf",
   "metadata": {},
   "source": [
    "*Remarque :* pensez bien à utiliser la tabulation pour avoir la liste des attributs/méthodes des classes `Matrix` ou `Vector`.\n",
    "\n",
    "Un peu de vocabulaire anglais : \n",
    "- comatrice $\\to$ adjugate\n",
    "- valeur propre $\\to$ eigenvalue\n",
    "- vecteur propre $\\to$ eigenvector\n",
    "\n",
    "Attention à l'utilisation de la fonction `trace` : si l'on exécute `trace(M)`, on n'obtient pas du tout la trace de la matrice `M`. Une méthode s'appelle toujours avec la syntaxe `object.method(args)`"
   ]
  },
  {
   "cell_type": "markdown",
   "id": "0e07098d-44b5-465b-995c-ff3073149403",
   "metadata": {},
   "source": [
    "**Exercice 1**\n",
    "\n",
    "Compter le nombre de matrices de $\\mathcal{M}_3(\\mathbb{F}_3)$ de déterminant 2 et de trace égale à -1."
   ]
  },
  {
   "cell_type": "code",
   "execution_count": null,
   "id": "d6b6196b-733b-4df2-aa3e-96cf7ce172ac",
   "metadata": {},
   "outputs": [],
   "source": []
  },
  {
   "cell_type": "markdown",
   "id": "2b9853ab-27bb-4392-9c4d-0b09a269ccf7",
   "metadata": {},
   "source": [
    "\n",
    "**Exercice 2**\n",
    "\n",
    "Pour chaque paire de matrices suivantes, utiliser SageMath pour déterminer si elles sont semblables ou pas. On pourra utiliser des invariants de similitudes classiques (trace, déterminant, rang, polynôme caractéristique, etc...)."
   ]
  },
  {
   "cell_type": "code",
   "execution_count": null,
   "id": "05a028fa-66e1-4ca4-be71-bb046c684714",
   "metadata": {},
   "outputs": [],
   "source": [
    "A=matrix(ZZ,[[0,1,2,-1],[1,0,1,1],[-2,1,0,-1],[1,1,3,0]])\n",
    "B=matrix(ZZ,[[0,1,1,2],[1,0,1,2],[0,1,0,1],[1,0,-1,0]])\n",
    "pretty_print('A=',A,' B=',B)"
   ]
  },
  {
   "cell_type": "code",
   "execution_count": null,
   "id": "84e68250-c415-4e79-bb71-a847d641c14d",
   "metadata": {},
   "outputs": [],
   "source": []
  },
  {
   "cell_type": "code",
   "execution_count": null,
   "id": "666d8e2a-f4d5-4f62-925c-e686db7d51c7",
   "metadata": {},
   "outputs": [],
   "source": [
    "A=matrix([[1,1,1],[0,2,0],[0,0,2]])\n",
    "B=matrix([[1,0,0],[0,2,1],[0,0,2]])\n",
    "pretty_print('A=',A,' B=',B)"
   ]
  },
  {
   "cell_type": "code",
   "execution_count": null,
   "id": "72331fc1-f24c-4295-82c5-d216d4ad5258",
   "metadata": {},
   "outputs": [],
   "source": []
  },
  {
   "cell_type": "code",
   "execution_count": null,
   "id": "4f27c06a-ba59-4f86-acff-db69b73af353",
   "metadata": {},
   "outputs": [],
   "source": [
    "A=matrix([[0,1,1],[1,0,0],[2,1,0]])\n",
    "B=matrix([[0,1,0],[1,0,1],[1,2,0]])\n",
    "pretty_print('A=',A,' B=',B)"
   ]
  },
  {
   "cell_type": "code",
   "execution_count": null,
   "id": "f7492edf-66d8-4bf7-a94c-5dc749b54312",
   "metadata": {},
   "outputs": [],
   "source": []
  },
  {
   "cell_type": "code",
   "execution_count": null,
   "id": "2a20979b-6b3c-41b4-b2f2-c992da4dcaa7",
   "metadata": {},
   "outputs": [],
   "source": [
    "A=matrix([[-2,1,-1,-3],[0,-1,1,4],[4,-4,7,28],[-1,1,-2,-8]])\n",
    "B=matrix([[-5,4,8,4],[-3,2,6,3],[-1,1,1,1],[1,-1,-2,-2]])\n",
    "pretty_print('A=',A,' B=',B)"
   ]
  },
  {
   "cell_type": "code",
   "execution_count": null,
   "id": "5bfad0b0-4531-4643-aa7a-17b399bd46ea",
   "metadata": {},
   "outputs": [],
   "source": []
  },
  {
   "cell_type": "markdown",
   "id": "ebe19f69-91ef-4350-ad0e-e637a1154838",
   "metadata": {},
   "source": [
    "## 2. Résolution de systèmes linéaires"
   ]
  },
  {
   "cell_type": "markdown",
   "id": "b6eb82f3-a7b1-4dcb-a074-40ed6a71ddc7",
   "metadata": {},
   "source": [
    "*Attention :* SageMath travaille plutôt avec les lignes des matrices (\"à gauche\") qu'avec les colonnes (\"à droite\")."
   ]
  },
  {
   "cell_type": "code",
   "execution_count": null,
   "id": "657911ce-7fbf-4435-8aa9-8fa7b6990ed0",
   "metadata": {},
   "outputs": [],
   "source": [
    "B=matrix(QQ,3,5,[1,2,3,4,5,6,7,8,9,10,11,12,13,14,15])\n",
    "print(B)\n",
    "print(B.kernel())\n",
    "print(B.right_kernel())"
   ]
  },
  {
   "cell_type": "code",
   "execution_count": null,
   "id": "fa198af6-c97d-4233-8c38-ec4dcb0ef14d",
   "metadata": {},
   "outputs": [],
   "source": [
    "B.right_kernel().basis()"
   ]
  },
  {
   "cell_type": "markdown",
   "id": "ed200bf2-8426-4ad6-b3db-42031343c266",
   "metadata": {},
   "source": [
    "Résolution avec un membre de droite: $AX=Y$"
   ]
  },
  {
   "cell_type": "code",
   "execution_count": null,
   "id": "78ac98bb-2746-44e3-9666-8ae4a31d655a",
   "metadata": {},
   "outputs": [],
   "source": [
    "A=matrix([[1,1],[0,1]])\n",
    "print(A)\n",
    "Y=vector([1,1])\n",
    "print(A.solve_right(Y))\n",
    "print(A.solve_left(Y))"
   ]
  },
  {
   "cell_type": "markdown",
   "id": "b61c1f99-d70d-4f44-a8eb-7df4cc9f2fd9",
   "metadata": {},
   "source": [
    "Attention au cas où les systèmes ne sont pas de Cramer."
   ]
  },
  {
   "cell_type": "code",
   "execution_count": null,
   "id": "9a844e72-a94c-45b8-876e-3a00c2a17ed5",
   "metadata": {},
   "outputs": [],
   "source": [
    "A=matrix([[1,1],[1,1]])\n",
    "print(A.solve_right(Y))\n",
    "print(A.solve_right(vector([1,2])))"
   ]
  },
  {
   "cell_type": "markdown",
   "id": "1613da76-063b-43bb-aff2-0247cea670a2",
   "metadata": {},
   "source": [
    "La forme échelon réduite d'une matrice (celle qu'on obtient par application du pivot de Gauss, remontée comprise, sans échange de colonnes) s'obtient avec la commande `A.echelon_form()`, ou `A.echelonize()` pour la version en place."
   ]
  },
  {
   "cell_type": "code",
   "execution_count": null,
   "id": "b26e354a-d43e-40d1-bafe-eee0325fcd97",
   "metadata": {},
   "outputs": [],
   "source": [
    "B=matrix(QQ,3,5,[1,2,3,4,5,4,8,8,9,10,6,12,13,14,15])\n",
    "B,B.echelon_form()"
   ]
  },
  {
   "cell_type": "markdown",
   "id": "b5a1df5c-91f0-4cc3-942a-3d7a97a68a73",
   "metadata": {},
   "source": [
    "**Exercice 3**\n",
    "\n",
    "On considère la matrice $A$ ci-dessous. À partir du calcul de formes échelons réduites :\n",
    "1. Donner une matrice $B$ telle que Im($B$)=Ker($A$). En déduire une paramétrisation du noyau de $A$.\n",
    "2. Donner une matrice $C$ telle que Ker($C$)=Im($A$). En déduire un système d'équations de l'image de $A$."
   ]
  },
  {
   "cell_type": "code",
   "execution_count": null,
   "id": "5309da9b-1725-46a5-a207-939f2326998d",
   "metadata": {},
   "outputs": [],
   "source": [
    "A=matrix(QQ,4,5,[[1,2,-1,0,4],[2,4,-3,-2,11],[-1,-2,0,-2,-1],[3,6,-3,0,12]])"
   ]
  },
  {
   "cell_type": "code",
   "execution_count": null,
   "id": "e40e6b14-cfb7-4ad4-839c-de65b75508bf",
   "metadata": {},
   "outputs": [],
   "source": []
  },
  {
   "cell_type": "markdown",
   "id": "0704613a-d41f-4e1d-a833-77a43521d25a",
   "metadata": {},
   "source": [
    "## 3. Entrainez-vous"
   ]
  },
  {
   "cell_type": "markdown",
   "id": "f7ed6b15-0556-4083-b32c-b8b8c760c08a",
   "metadata": {},
   "source": [
    "**Exercice 4 : Temps de calcul du déterminant**\n",
    "\n",
    "1. Prendre une matrice $M\\in \\mathcal{M}_{10}(\\mathbb{Z})$ au hasard dont les coefficients sont bornés par $10$.\n",
    "2. Calculer son déterminant et son polynôme caractéristique avec les fonctions de SageMath.\n",
    "3. En utilisant les bornes de Hadamard et les réductions modulo $p$, calculer son déterminant et comparer les temps obtenus.\n"
   ]
  },
  {
   "cell_type": "code",
   "execution_count": null,
   "id": "a85d4475-83ec-46ab-8ed0-27a39f215dde",
   "metadata": {},
   "outputs": [],
   "source": []
  },
  {
   "cell_type": "markdown",
   "id": "a0488cb9-2be2-4cca-91e1-a206693293de",
   "metadata": {},
   "source": [
    "**Exercice 5 : Réduire dans une extension**\n",
    "\n",
    "1. Prendre une matrice $M\\in\\mathcal{M}_3(\\mathbb{Q})$ au hasard dont le polynôme minimal $P$ est irréductible.\n",
    "2. Construire le corps de décomposition $K$ de $P$ et diagonaliser $P$ dans $\\mathcal{M}_3(\\mathbb{K})$."
   ]
  },
  {
   "cell_type": "code",
   "execution_count": null,
   "id": "e09fde55-5966-4069-85ce-ff4153daa234",
   "metadata": {},
   "outputs": [],
   "source": []
  },
  {
   "cell_type": "markdown",
   "id": "bb888dd9-e4ea-43c0-9944-53cbe883d278",
   "metadata": {},
   "source": [
    "**Exercice 6**\n",
    "\n",
    "On rappelle qu'une matrice compagnon est une matrice de la forme\n",
    "$$\\begin{pmatrix}\n",
    "0 & \\dots & \\dots & 0 & * \\\\\n",
    "1 & \\ddots & & \\vdots & \\vdots  \\\\\n",
    "0 & \\ddots & \\ddots & \\vdots & \\vdots \\\\\n",
    "\\vdots & \\ddots & \\ddots & 0 & * \\\\\n",
    "0 & \\dots & 0 & 1 & * \n",
    "\\end{pmatrix}$$\n",
    "Le but de cet exercice est de montrer, de manière effective, que toute matrice est semblable à une matrice par blocs de la forme \n",
    "$$\\begin{pmatrix} C_1 & A_{1,2} & \\dots & A_{1,p} \\\\\n",
    "0 & C_2 & \\ddots & \\vdots \\\\\n",
    "\\vdots & \\ddots & \\ddots & A_{p-1,p} \\\\\n",
    "0 & \\dots & 0 & C_p\\end{pmatrix}$$\n",
    "où $C_1, \\dots, C_p$ sont des matrices compagnons (pas forcément de même taille) et où les $A_{i,j}$ sont des matrices que l'on pourra prendre de la forme \n",
    "$$\\begin{pmatrix} 0 & \\dots & 0 & * \\\\\n",
    "\\vdots &  & \\vdots & \\vdots \\\\\n",
    "0 & \\dots & 0 & * \\end{pmatrix}$$\n",
    "1. Écrire un programme qui prend en entrée une matrice carrée $M$ de taille $n$ (que l'on prendra à coefficients dans un corps exact), un vecteur non nul $v$, et renvoie le plus petit entier $k$ tel que la famille $(v,Mv,\\dots,M^kv)$ est liée ainsi que le polynôme unitaire $P$ de degré $k$ tel que $P(M)v=0$.  \n",
    "\n",
    "Que peut-on dire de la matrice de l'endomorphisme associé à $M$ dans une base qui commence par $v,Mv,\\dots,M^{k-1}v$ ?"
   ]
  },
  {
   "cell_type": "code",
   "execution_count": null,
   "id": "dce400ff-9987-4adf-892d-aada1c78e6e7",
   "metadata": {},
   "outputs": [],
   "source": []
  },
  {
   "cell_type": "markdown",
   "id": "fba4ef7a-77c7-4ee9-a43f-9cc5d81352f9",
   "metadata": {},
   "source": [
    "2. Quelle est la complexité en fonction de $n$ et de $k$ du programme précédent, en terme d'opérations dans le corps des coefficients des matrices ? Peut-on l'améliorer ?"
   ]
  },
  {
   "cell_type": "code",
   "execution_count": null,
   "id": "cc6590b0-1319-4d6c-a09b-904637430a93",
   "metadata": {},
   "outputs": [],
   "source": []
  },
  {
   "cell_type": "markdown",
   "id": "1a243300-ecd9-4d03-a6b8-0afc8558b497",
   "metadata": {},
   "source": [
    "3. Écrire un programme qui prend en entrée une famille libre $(u_1,\\dots,u_m)$, un vecteur $v$, une matrice carrée $M$, et renvoie le plus petit entier $k$ tel que la famille $(u_1,\\dots,u_m,v,Mv,\\dots,M^kv)$ est liée ainsi que le polynôme unitaire $P$ de degré $k$ tel que $P(M)v \\in \\mathrm{Vect}(u_1,\\dots,u_m)$."
   ]
  },
  {
   "cell_type": "code",
   "execution_count": null,
   "id": "f7449546-9c1e-43ce-8cca-d10dbf12933a",
   "metadata": {},
   "outputs": [],
   "source": []
  },
  {
   "cell_type": "markdown",
   "id": "88864b27-732c-4ef8-9b59-84a61c863a7c",
   "metadata": {},
   "source": [
    "4. Écrire enfin un programme qui prend en entrée une matrice carrée $M$ et renvoie une matrice semblable de la forme spécifiée au début de l'exercice, ainsi que la matrice de passage associée.\n"
   ]
  },
  {
   "cell_type": "code",
   "execution_count": null,
   "id": "e2c3a3f6-40b3-4a41-a085-302a458bbad9",
   "metadata": {},
   "outputs": [],
   "source": []
  },
  {
   "cell_type": "markdown",
   "id": "f0410dcc-2068-4e8d-9953-ae6195874f00",
   "metadata": {},
   "source": [
    "5. Utiliser votre programme pour calculer une expression partiellement factorisée du polynôme caractéristique d'une matrice carrée. Quelle information obtient-on sur le polynôme minimal de la matrice ?\n"
   ]
  },
  {
   "cell_type": "code",
   "execution_count": null,
   "id": "af23bbcf-65ba-4c9e-acc2-75cb2cc4bab7",
   "metadata": {},
   "outputs": [],
   "source": []
  },
  {
   "cell_type": "markdown",
   "id": "6b1f6915-127f-47f7-8793-8751a30e0bfd",
   "metadata": {},
   "source": [
    "**Exercice 7**"
   ]
  },
  {
   "cell_type": "markdown",
   "id": "26b306de-b74e-46f9-b963-6d53d8ae6875",
   "metadata": {},
   "source": [
    "1. Préliminaire.\n",
    "\n",
    "Soient $a_1,\\dots,a_p$ et $b_1,\\dots,b_q$ deux familles d'éléments d'un anneau euclidien effectif $A$; on note $e=\\mathrm{pgcd}(a_1,\\dots,a_p)$, $f=\\mathrm{pgcd}(b_1,\\dots,b_q)$ et $d = \\mathrm{pgcd}(a_1,\\dots,a_p,b_1,\\dots,b_q)$.\n",
    "Soient $x_1,\\dots,x_p$ et $y_1,\\dots,y_q$ des éléments de $A$ tels que $\\sum_{i=1}^p a_i x_i = e$ et $\\sum_{i=1}^q b_i y_i = f$. \n",
    "À partir de coefficients de Bézout pour le couple $(e,f)$, expliquer comment calculer des éléments $u_1,\\dots,u_p,v_1,\\dots,v_q$ tels que \n",
    "$$a_1 u_1 + \\dots + a_p u_p + b_1 v_1 + \\dots +b_q v_q = d.$$ \n",
    "\n",
    "En déduire un programme récursif qui prend en entrée une liste d'éléments $[a_1,\\dots,a_n]$ et renvoie le pgcd $d$ de la famille ainsi qu'une liste de coefficients $[u_1,\\dots,u_n]$ telle que $\\sum_{i=1}^n a_i u_i =d$. "
   ]
  },
  {
   "cell_type": "code",
   "execution_count": null,
   "id": "5c1ce206-a14e-474a-8997-a749bff10c33",
   "metadata": {},
   "outputs": [],
   "source": []
  },
  {
   "cell_type": "markdown",
   "id": "9daa4348-5e9b-4867-9830-b1b1c7038b90",
   "metadata": {},
   "source": [
    "2. Soit $u$ un endomorphisme d'un $\\mathbb K$-espace vectoriel $E$, et $P_1,\\dots,P_m \\in \\mathbb K[X]$ des polynômes deux-à-deux premiers entre eux tels que le produit $P = P_1\\dots P_m$ est annulateur de $u$. Pour tout $i\\in \\{ 1,\\dots, m\\}$, on note $Q_i = P/P_i$.\n",
    "   \n",
    "    (a) Justifier l'existence de polynômes $U_1,\\dots, U_m$ tels que $\\sum_{i=1}^m U_iQ_i = 1$.\n",
    "   \n",
    "    (b) Montrer que pour tout $i\\in \\{ 1,\\dots, m\\}$, l'endomorphisme $U_i(u)\\circ Q_i(u)$ est la projection sur $\\ker P_i(u)$ parallèlement à $\\bigoplus_{j\\neq i} \\ker P_j(u)$.\n"
   ]
  },
  {
   "cell_type": "code",
   "execution_count": null,
   "id": "5191e961-16c7-49bd-ac58-18e7311cb12a",
   "metadata": {},
   "outputs": [],
   "source": []
  },
  {
   "cell_type": "markdown",
   "id": "8c3f91dd-e927-47f3-91ed-0a54767174cf",
   "metadata": {},
   "source": [
    "3. On considère la matrice \n",
    "$$A = \\begin{pmatrix} -3 & -9 & -6 & 1 \\\\\n",
    "2 & 3 & 0 & -2 \\\\\n",
    "-1 & 0 & 1 & 1 \\\\\n",
    "0 & -5 & -6 & -2\\end{pmatrix}$$\n",
    "\n",
    "   (a) Déterminer les matrices $D$ et $N$ de sa décomposition de Dunford, ainsi que deux polynômes $P,Q \\in \\mathbb{Q}[X]$ tels que $D = P(A)$ et $N=Q(A)$.\n",
    "   \n",
    "   (b) Déterminer un polynôme $E \\in \\mathbb{R}[X]$ tel que $e^A = E(A)$."
   ]
  },
  {
   "cell_type": "code",
   "execution_count": null,
   "id": "6dc02d28-0031-466f-bf52-4ee257000bca",
   "metadata": {},
   "outputs": [],
   "source": []
  },
  {
   "cell_type": "markdown",
   "id": "65e432f8-d503-4e88-b011-c898b0ca9a77",
   "metadata": {},
   "source": [
    "4. Écrire un programme qui réalise le travail des deux questions précédentes pour une matrice quelconque de polynôme caractéristique scindé."
   ]
  },
  {
   "cell_type": "code",
   "execution_count": null,
   "id": "06664e89-15b9-484c-9554-14105d49d6fe",
   "metadata": {},
   "outputs": [],
   "source": []
  }
 ],
 "metadata": {
  "kernelspec": {
   "display_name": "SageMath 10.1",
   "language": "sage",
   "name": "sagemath-10.1"
  },
  "language_info": {
   "codemirror_mode": {
    "name": "ipython",
    "version": 3
   },
   "file_extension": ".py",
   "mimetype": "text/x-python",
   "name": "python",
   "nbconvert_exporter": "python",
   "pygments_lexer": "ipython3",
   "version": "3.11.1"
  }
 },
 "nbformat": 4,
 "nbformat_minor": 5
}
